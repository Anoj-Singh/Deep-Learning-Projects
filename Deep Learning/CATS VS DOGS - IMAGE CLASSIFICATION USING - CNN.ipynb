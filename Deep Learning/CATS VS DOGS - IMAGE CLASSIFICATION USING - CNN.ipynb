{
 "cells": [
  {
   "cell_type": "markdown",
   "metadata": {},
   "source": [
    "# CONVOLUTIONAL NEURAL NETWORK"
   ]
  },
  {
   "cell_type": "code",
   "execution_count": 1,
   "metadata": {},
   "outputs": [],
   "source": [
    "#IMPORTING THE LIBRARIES\n",
    "\n",
    "import numpy as np\n",
    "import tensorflow as tf\n",
    "import matplotlib.pyplot as plt\n",
    "from keras.preprocessing import image\n",
    "from keras.preprocessing.image  import ImageDataGenerator"
   ]
  },
  {
   "cell_type": "markdown",
   "metadata": {},
   "source": [
    "# 1. DATA PREPROCESSING"
   ]
  },
  {
   "cell_type": "code",
   "execution_count": 2,
   "metadata": {},
   "outputs": [
    {
     "name": "stdout",
     "output_type": "stream",
     "text": [
      "Found 8000 images belonging to 2 classes.\n"
     ]
    }
   ],
   "source": [
    "#PREPROCESSING THE TRAINING SET\n",
    "\n",
    "train_set = ImageDataGenerator(rescale=1/255,\n",
    "                              horizontal_flip=True,\n",
    "                              zoom_range=0.2,\n",
    "                              shear_range=0.2)\n",
    "\n",
    "train_data = train_set.flow_from_directory(r'D:\\csv files\\Section 40 - Convolutional Neural Networks (CNN)\\dataset\\training_set',\n",
    "                                          batch_size=32,\n",
    "                                          target_size=(64,64),\n",
    "                                          class_mode='binary')"
   ]
  },
  {
   "cell_type": "code",
   "execution_count": 3,
   "metadata": {},
   "outputs": [
    {
     "name": "stdout",
     "output_type": "stream",
     "text": [
      "Found 1999 images belonging to 2 classes.\n"
     ]
    }
   ],
   "source": [
    "# PREPROCESING THE TEST SET\n",
    "\n",
    "test_set = ImageDataGenerator(rescale=1/255)\n",
    "\n",
    "test_data = test_set.flow_from_directory(r'D:\\csv files\\Section 40 - Convolutional Neural Networks (CNN)\\dataset\\test_set',\n",
    "                                        batch_size=32,\n",
    "                                        target_size=(64,64),\n",
    "                                        class_mode='binary')"
   ]
  },
  {
   "cell_type": "code",
   "execution_count": 4,
   "metadata": {},
   "outputs": [
    {
     "data": {
      "text/plain": [
       "((64, 64, 3), (64, 64, 3))"
      ]
     },
     "execution_count": 4,
     "metadata": {},
     "output_type": "execute_result"
    }
   ],
   "source": [
    "train_data.image_shape, test_data.image_shape"
   ]
  },
  {
   "cell_type": "code",
   "execution_count": 5,
   "metadata": {},
   "outputs": [
    {
     "data": {
      "text/plain": [
       "{'cats': 0, 'dogs': 1}"
      ]
     },
     "execution_count": 5,
     "metadata": {},
     "output_type": "execute_result"
    }
   ],
   "source": [
    "train_data.class_indices"
   ]
  },
  {
   "cell_type": "markdown",
   "metadata": {},
   "source": [
    "# 2. BUILDING THE CNN"
   ]
  },
  {
   "cell_type": "code",
   "execution_count": 6,
   "metadata": {},
   "outputs": [],
   "source": [
    "# INITIALISING THE CNN\n",
    "cnn =tf.keras.models.Sequential([\n",
    "    \n",
    "    # FIRST CONVOLUTIONAL LAYER\n",
    "    tf.keras.layers.Conv2D(filters=32, kernel_size=3, activation='relu', input_shape=(64,64,3)),\n",
    "    \n",
    "    # FIRST POOLING LAYER\n",
    "    tf.keras.layers.MaxPool2D(pool_size=2, strides=2),\n",
    "    \n",
    "        \n",
    "    # SECOND CONVOLUTIONAL LAYER\n",
    "    tf.keras.layers.Conv2D(filters=64, kernel_size=3, activation='relu'),\n",
    "    \n",
    "    # SECOND POOLING LAYER\n",
    "    tf.keras.layers.MaxPool2D(pool_size=2, strides=2),\n",
    "    \n",
    "    # FLATTENING \n",
    "    tf.keras.layers.Flatten(),\n",
    "    \n",
    "    # FULL CONNECTION WITH DENSE LAYER\n",
    "    tf.keras.layers.Dense(units=128, activation='relu'),\n",
    "    \n",
    "    # FULL CONNECTION WITH SECOND DENSE LAYER\n",
    "    tf.keras.layers.Dense(units=64, activation='relu'),\n",
    "    \n",
    "    # OUTPUT LAYER\n",
    "    tf.keras.layers.Dense(units=1, activation='sigmoid')\n",
    "\n",
    "])"
   ]
  },
  {
   "cell_type": "markdown",
   "metadata": {},
   "source": [
    "# 3. TRAINING THE CNN"
   ]
  },
  {
   "cell_type": "code",
   "execution_count": 7,
   "metadata": {},
   "outputs": [],
   "source": [
    "# COMPILING THE CNN\n",
    "\n",
    "cnn.compile(optimizer='adam', loss='binary_crossentropy', metrics=['accuracy'])"
   ]
  },
  {
   "cell_type": "code",
   "execution_count": 8,
   "metadata": {
    "scrolled": true
   },
   "outputs": [
    {
     "name": "stdout",
     "output_type": "stream",
     "text": [
      "Epoch 1/20\n",
      "250/250 [==============================] - 195s 775ms/step - loss: 0.6877 - accuracy: 0.5453 - val_loss: 0.5950 - val_accuracy: 0.7004\n",
      "Epoch 2/20\n",
      "250/250 [==============================] - 197s 791ms/step - loss: 0.5965 - accuracy: 0.6828 - val_loss: 0.5473 - val_accuracy: 0.7324\n",
      "Epoch 3/20\n",
      "250/250 [==============================] - 186s 743ms/step - loss: 0.5515 - accuracy: 0.7217 - val_loss: 0.5183 - val_accuracy: 0.7594\n",
      "Epoch 4/20\n",
      "250/250 [==============================] - 83s 331ms/step - loss: 0.5129 - accuracy: 0.7542 - val_loss: 0.4859 - val_accuracy: 0.7649\n",
      "Epoch 5/20\n",
      "250/250 [==============================] - 80s 320ms/step - loss: 0.4925 - accuracy: 0.7603 - val_loss: 0.4887 - val_accuracy: 0.7724\n",
      "Epoch 6/20\n",
      "250/250 [==============================] - 84s 336ms/step - loss: 0.4722 - accuracy: 0.7754 - val_loss: 0.4840 - val_accuracy: 0.7719\n",
      "Epoch 7/20\n",
      "250/250 [==============================] - 80s 322ms/step - loss: 0.4458 - accuracy: 0.7845 - val_loss: 0.4744 - val_accuracy: 0.7844\n",
      "Epoch 8/20\n",
      "250/250 [==============================] - 78s 312ms/step - loss: 0.4501 - accuracy: 0.7901 - val_loss: 0.4974 - val_accuracy: 0.7614\n",
      "Epoch 9/20\n",
      "250/250 [==============================] - 82s 326ms/step - loss: 0.4135 - accuracy: 0.8015 - val_loss: 0.4774 - val_accuracy: 0.7814\n",
      "Epoch 10/20\n",
      "250/250 [==============================] - 79s 316ms/step - loss: 0.3889 - accuracy: 0.8248 - val_loss: 0.4743 - val_accuracy: 0.7944\n",
      "Epoch 11/20\n",
      "250/250 [==============================] - 78s 311ms/step - loss: 0.3825 - accuracy: 0.8235 - val_loss: 0.4717 - val_accuracy: 0.7894\n",
      "Epoch 12/20\n",
      "250/250 [==============================] - 80s 320ms/step - loss: 0.3627 - accuracy: 0.8425 - val_loss: 0.4815 - val_accuracy: 0.7799\n",
      "Epoch 13/20\n",
      "250/250 [==============================] - 79s 317ms/step - loss: 0.3472 - accuracy: 0.8421 - val_loss: 0.4750 - val_accuracy: 0.7904\n",
      "Epoch 14/20\n",
      "250/250 [==============================] - 78s 314ms/step - loss: 0.3154 - accuracy: 0.8574 - val_loss: 0.4751 - val_accuracy: 0.7904\n",
      "Epoch 15/20\n",
      "250/250 [==============================] - 76s 305ms/step - loss: 0.3064 - accuracy: 0.8658 - val_loss: 0.5531 - val_accuracy: 0.7764\n",
      "Epoch 16/20\n",
      "250/250 [==============================] - 74s 296ms/step - loss: 0.2988 - accuracy: 0.8740 - val_loss: 0.5111 - val_accuracy: 0.7919\n",
      "Epoch 17/20\n",
      "250/250 [==============================] - 80s 319ms/step - loss: 0.2775 - accuracy: 0.8824 - val_loss: 0.4915 - val_accuracy: 0.8024\n",
      "Epoch 18/20\n",
      "250/250 [==============================] - 86s 342ms/step - loss: 0.2542 - accuracy: 0.8928 - val_loss: 0.5360 - val_accuracy: 0.7919\n",
      "Epoch 19/20\n",
      "250/250 [==============================] - 80s 319ms/step - loss: 0.2501 - accuracy: 0.8983 - val_loss: 0.5172 - val_accuracy: 0.7994\n",
      "Epoch 20/20\n",
      "250/250 [==============================] - 81s 324ms/step - loss: 0.2356 - accuracy: 0.9033 - val_loss: 0.5438 - val_accuracy: 0.7969\n"
     ]
    },
    {
     "data": {
      "text/plain": [
       "<tensorflow.python.keras.callbacks.History at 0x1edf5173f08>"
      ]
     },
     "execution_count": 8,
     "metadata": {},
     "output_type": "execute_result"
    }
   ],
   "source": [
    "# Training the CNN on the Training set and evaluating it on the Test set\n",
    "\n",
    "cnn.fit(train_data, validation_data=(test_data), epochs=20)"
   ]
  },
  {
   "cell_type": "markdown",
   "metadata": {},
   "source": [
    "#  MAKING A SINGLE PREDICTION"
   ]
  },
  {
   "cell_type": "code",
   "execution_count": 34,
   "metadata": {},
   "outputs": [
    {
     "name": "stdout",
     "output_type": "stream",
     "text": [
      "Cat\n"
     ]
    }
   ],
   "source": [
    "img = image.load_img(r'D:\\csv files\\Section 40 - Convolutional Neural Networks (CNN)\\dataset\\test_set\\cats\\cat.4079.jpg', target_size=(64,64))\n",
    "img = image.img_to_array(img)\n",
    "img = np.expand_dims(img, axis=0)\n",
    "\n",
    "prediction = cnn.predict(img)\n",
    "if prediction == 1:\n",
    "    print('Dog')\n",
    "else:\n",
    "    print('Cat')"
   ]
  },
  {
   "cell_type": "code",
   "execution_count": null,
   "metadata": {},
   "outputs": [],
   "source": []
  }
 ],
 "metadata": {
  "kernelspec": {
   "display_name": "Python 3",
   "language": "python",
   "name": "python3"
  },
  "language_info": {
   "codemirror_mode": {
    "name": "ipython",
    "version": 3
   },
   "file_extension": ".py",
   "mimetype": "text/x-python",
   "name": "python",
   "nbconvert_exporter": "python",
   "pygments_lexer": "ipython3",
   "version": "3.7.6"
  }
 },
 "nbformat": 4,
 "nbformat_minor": 4
}
