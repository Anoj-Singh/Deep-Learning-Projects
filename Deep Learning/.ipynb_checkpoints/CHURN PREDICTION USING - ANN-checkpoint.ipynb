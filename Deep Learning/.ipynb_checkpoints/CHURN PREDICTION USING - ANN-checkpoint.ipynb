{
 "cells": [
  {
   "cell_type": "markdown",
   "metadata": {},
   "source": [
    "# CHURN PREDICTION"
   ]
  },
  {
   "cell_type": "code",
   "execution_count": 1,
   "metadata": {
    "id": "RqZ3_WV4HJ_B"
   },
   "outputs": [],
   "source": [
    "# IMPORTING THE LIBRARIES\n",
    "\n",
    "import pandas as pd\n",
    "import numpy as np\n",
    "import matplotlib.pyplot as plt\n",
    "import seaborn as sns\n",
    "import tensorflow as tf"
   ]
  },
  {
   "cell_type": "code",
   "execution_count": 2,
   "metadata": {
    "colab": {
     "base_uri": "https://localhost:8080/",
     "height": 233
    },
    "id": "zRiMCt-0HsrA",
    "outputId": "8a82de43-15b8-48d9-8141-8a8533648bf5"
   },
   "outputs": [
    {
     "data": {
      "text/html": [
       "<div>\n",
       "<style scoped>\n",
       "    .dataframe tbody tr th:only-of-type {\n",
       "        vertical-align: middle;\n",
       "    }\n",
       "\n",
       "    .dataframe tbody tr th {\n",
       "        vertical-align: top;\n",
       "    }\n",
       "\n",
       "    .dataframe thead th {\n",
       "        text-align: right;\n",
       "    }\n",
       "</style>\n",
       "<table border=\"1\" class=\"dataframe\">\n",
       "  <thead>\n",
       "    <tr style=\"text-align: right;\">\n",
       "      <th></th>\n",
       "      <th>CreditScore</th>\n",
       "      <th>Geography</th>\n",
       "      <th>Gender</th>\n",
       "      <th>Age</th>\n",
       "      <th>Tenure</th>\n",
       "      <th>Balance</th>\n",
       "      <th>NumOfProducts</th>\n",
       "      <th>HasCrCard</th>\n",
       "      <th>IsActiveMember</th>\n",
       "      <th>EstimatedSalary</th>\n",
       "      <th>Exited</th>\n",
       "    </tr>\n",
       "    <tr>\n",
       "      <th>RowNumber</th>\n",
       "      <th></th>\n",
       "      <th></th>\n",
       "      <th></th>\n",
       "      <th></th>\n",
       "      <th></th>\n",
       "      <th></th>\n",
       "      <th></th>\n",
       "      <th></th>\n",
       "      <th></th>\n",
       "      <th></th>\n",
       "      <th></th>\n",
       "    </tr>\n",
       "  </thead>\n",
       "  <tbody>\n",
       "    <tr>\n",
       "      <th>1</th>\n",
       "      <td>619</td>\n",
       "      <td>France</td>\n",
       "      <td>Female</td>\n",
       "      <td>42</td>\n",
       "      <td>2</td>\n",
       "      <td>0.00</td>\n",
       "      <td>1</td>\n",
       "      <td>1</td>\n",
       "      <td>1</td>\n",
       "      <td>101348.88</td>\n",
       "      <td>1</td>\n",
       "    </tr>\n",
       "    <tr>\n",
       "      <th>2</th>\n",
       "      <td>608</td>\n",
       "      <td>Spain</td>\n",
       "      <td>Female</td>\n",
       "      <td>41</td>\n",
       "      <td>1</td>\n",
       "      <td>83807.86</td>\n",
       "      <td>1</td>\n",
       "      <td>0</td>\n",
       "      <td>1</td>\n",
       "      <td>112542.58</td>\n",
       "      <td>0</td>\n",
       "    </tr>\n",
       "    <tr>\n",
       "      <th>3</th>\n",
       "      <td>502</td>\n",
       "      <td>France</td>\n",
       "      <td>Female</td>\n",
       "      <td>42</td>\n",
       "      <td>8</td>\n",
       "      <td>159660.80</td>\n",
       "      <td>3</td>\n",
       "      <td>1</td>\n",
       "      <td>0</td>\n",
       "      <td>113931.57</td>\n",
       "      <td>1</td>\n",
       "    </tr>\n",
       "    <tr>\n",
       "      <th>4</th>\n",
       "      <td>699</td>\n",
       "      <td>France</td>\n",
       "      <td>Female</td>\n",
       "      <td>39</td>\n",
       "      <td>1</td>\n",
       "      <td>0.00</td>\n",
       "      <td>2</td>\n",
       "      <td>0</td>\n",
       "      <td>0</td>\n",
       "      <td>93826.63</td>\n",
       "      <td>0</td>\n",
       "    </tr>\n",
       "    <tr>\n",
       "      <th>5</th>\n",
       "      <td>850</td>\n",
       "      <td>Spain</td>\n",
       "      <td>Female</td>\n",
       "      <td>43</td>\n",
       "      <td>2</td>\n",
       "      <td>125510.82</td>\n",
       "      <td>1</td>\n",
       "      <td>1</td>\n",
       "      <td>1</td>\n",
       "      <td>79084.10</td>\n",
       "      <td>0</td>\n",
       "    </tr>\n",
       "  </tbody>\n",
       "</table>\n",
       "</div>"
      ],
      "text/plain": [
       "           CreditScore Geography  ... EstimatedSalary  Exited\n",
       "RowNumber                         ...                        \n",
       "1                  619    France  ...       101348.88       1\n",
       "2                  608     Spain  ...       112542.58       0\n",
       "3                  502    France  ...       113931.57       1\n",
       "4                  699    France  ...        93826.63       0\n",
       "5                  850     Spain  ...        79084.10       0\n",
       "\n",
       "[5 rows x 11 columns]"
      ]
     },
     "execution_count": 2,
     "metadata": {
      "tags": []
     },
     "output_type": "execute_result"
    }
   ],
   "source": [
    "# IMPORTING THE DATASET\n",
    "\n",
    "df=pd.read_csv(\"/content/Churn_Modelling.csv\", index_col='RowNumber')\n",
    "df.drop(['CustomerId','Surname'], axis=1, inplace=True)\n",
    "df.head()"
   ]
  },
  {
   "cell_type": "code",
   "execution_count": 3,
   "metadata": {
    "colab": {
     "base_uri": "https://localhost:8080/"
    },
    "id": "jFNGSNAJIuy6",
    "outputId": "82d227d7-ec56-4d08-efed-830f0bba27e5"
   },
   "outputs": [
    {
     "data": {
      "text/plain": [
       "(10000, 11)"
      ]
     },
     "execution_count": 3,
     "metadata": {
      "tags": []
     },
     "output_type": "execute_result"
    }
   ],
   "source": [
    "df.shape"
   ]
  },
  {
   "cell_type": "code",
   "execution_count": 4,
   "metadata": {
    "colab": {
     "base_uri": "https://localhost:8080/",
     "height": 325
    },
    "id": "n3U2kun0HyyE",
    "outputId": "3d74ee28-33fc-4818-fd90-4e9a13683e73"
   },
   "outputs": [
    {
     "data": {
      "text/html": [
       "<div>\n",
       "<style scoped>\n",
       "    .dataframe tbody tr th:only-of-type {\n",
       "        vertical-align: middle;\n",
       "    }\n",
       "\n",
       "    .dataframe tbody tr th {\n",
       "        vertical-align: top;\n",
       "    }\n",
       "\n",
       "    .dataframe thead th {\n",
       "        text-align: right;\n",
       "    }\n",
       "</style>\n",
       "<table border=\"1\" class=\"dataframe\">\n",
       "  <thead>\n",
       "    <tr style=\"text-align: right;\">\n",
       "      <th></th>\n",
       "      <th>count</th>\n",
       "      <th>mean</th>\n",
       "      <th>std</th>\n",
       "      <th>min</th>\n",
       "      <th>25%</th>\n",
       "      <th>50%</th>\n",
       "      <th>75%</th>\n",
       "      <th>max</th>\n",
       "    </tr>\n",
       "  </thead>\n",
       "  <tbody>\n",
       "    <tr>\n",
       "      <th>CreditScore</th>\n",
       "      <td>10000.0</td>\n",
       "      <td>650.528800</td>\n",
       "      <td>96.653299</td>\n",
       "      <td>350.00</td>\n",
       "      <td>584.00</td>\n",
       "      <td>652.000</td>\n",
       "      <td>718.0000</td>\n",
       "      <td>850.00</td>\n",
       "    </tr>\n",
       "    <tr>\n",
       "      <th>Age</th>\n",
       "      <td>10000.0</td>\n",
       "      <td>38.921800</td>\n",
       "      <td>10.487806</td>\n",
       "      <td>18.00</td>\n",
       "      <td>32.00</td>\n",
       "      <td>37.000</td>\n",
       "      <td>44.0000</td>\n",
       "      <td>92.00</td>\n",
       "    </tr>\n",
       "    <tr>\n",
       "      <th>Tenure</th>\n",
       "      <td>10000.0</td>\n",
       "      <td>5.012800</td>\n",
       "      <td>2.892174</td>\n",
       "      <td>0.00</td>\n",
       "      <td>3.00</td>\n",
       "      <td>5.000</td>\n",
       "      <td>7.0000</td>\n",
       "      <td>10.00</td>\n",
       "    </tr>\n",
       "    <tr>\n",
       "      <th>Balance</th>\n",
       "      <td>10000.0</td>\n",
       "      <td>76485.889288</td>\n",
       "      <td>62397.405202</td>\n",
       "      <td>0.00</td>\n",
       "      <td>0.00</td>\n",
       "      <td>97198.540</td>\n",
       "      <td>127644.2400</td>\n",
       "      <td>250898.09</td>\n",
       "    </tr>\n",
       "    <tr>\n",
       "      <th>NumOfProducts</th>\n",
       "      <td>10000.0</td>\n",
       "      <td>1.530200</td>\n",
       "      <td>0.581654</td>\n",
       "      <td>1.00</td>\n",
       "      <td>1.00</td>\n",
       "      <td>1.000</td>\n",
       "      <td>2.0000</td>\n",
       "      <td>4.00</td>\n",
       "    </tr>\n",
       "    <tr>\n",
       "      <th>HasCrCard</th>\n",
       "      <td>10000.0</td>\n",
       "      <td>0.705500</td>\n",
       "      <td>0.455840</td>\n",
       "      <td>0.00</td>\n",
       "      <td>0.00</td>\n",
       "      <td>1.000</td>\n",
       "      <td>1.0000</td>\n",
       "      <td>1.00</td>\n",
       "    </tr>\n",
       "    <tr>\n",
       "      <th>IsActiveMember</th>\n",
       "      <td>10000.0</td>\n",
       "      <td>0.515100</td>\n",
       "      <td>0.499797</td>\n",
       "      <td>0.00</td>\n",
       "      <td>0.00</td>\n",
       "      <td>1.000</td>\n",
       "      <td>1.0000</td>\n",
       "      <td>1.00</td>\n",
       "    </tr>\n",
       "    <tr>\n",
       "      <th>EstimatedSalary</th>\n",
       "      <td>10000.0</td>\n",
       "      <td>100090.239881</td>\n",
       "      <td>57510.492818</td>\n",
       "      <td>11.58</td>\n",
       "      <td>51002.11</td>\n",
       "      <td>100193.915</td>\n",
       "      <td>149388.2475</td>\n",
       "      <td>199992.48</td>\n",
       "    </tr>\n",
       "    <tr>\n",
       "      <th>Exited</th>\n",
       "      <td>10000.0</td>\n",
       "      <td>0.203700</td>\n",
       "      <td>0.402769</td>\n",
       "      <td>0.00</td>\n",
       "      <td>0.00</td>\n",
       "      <td>0.000</td>\n",
       "      <td>0.0000</td>\n",
       "      <td>1.00</td>\n",
       "    </tr>\n",
       "  </tbody>\n",
       "</table>\n",
       "</div>"
      ],
      "text/plain": [
       "                   count           mean  ...          75%        max\n",
       "CreditScore      10000.0     650.528800  ...     718.0000     850.00\n",
       "Age              10000.0      38.921800  ...      44.0000      92.00\n",
       "Tenure           10000.0       5.012800  ...       7.0000      10.00\n",
       "Balance          10000.0   76485.889288  ...  127644.2400  250898.09\n",
       "NumOfProducts    10000.0       1.530200  ...       2.0000       4.00\n",
       "HasCrCard        10000.0       0.705500  ...       1.0000       1.00\n",
       "IsActiveMember   10000.0       0.515100  ...       1.0000       1.00\n",
       "EstimatedSalary  10000.0  100090.239881  ...  149388.2475  199992.48\n",
       "Exited           10000.0       0.203700  ...       0.0000       1.00\n",
       "\n",
       "[9 rows x 8 columns]"
      ]
     },
     "execution_count": 4,
     "metadata": {
      "tags": []
     },
     "output_type": "execute_result"
    }
   ],
   "source": [
    "df.describe().T"
   ]
  },
  {
   "cell_type": "code",
   "execution_count": 5,
   "metadata": {
    "colab": {
     "base_uri": "https://localhost:8080/"
    },
    "id": "V_Qrb03UIISg",
    "outputId": "09ea4ea4-7c38-4e74-c4eb-8dbf70ab1482"
   },
   "outputs": [
    {
     "name": "stdout",
     "output_type": "stream",
     "text": [
      "<class 'pandas.core.frame.DataFrame'>\n",
      "Int64Index: 10000 entries, 1 to 10000\n",
      "Data columns (total 11 columns):\n",
      " #   Column           Non-Null Count  Dtype  \n",
      "---  ------           --------------  -----  \n",
      " 0   CreditScore      10000 non-null  int64  \n",
      " 1   Geography        10000 non-null  object \n",
      " 2   Gender           10000 non-null  object \n",
      " 3   Age              10000 non-null  int64  \n",
      " 4   Tenure           10000 non-null  int64  \n",
      " 5   Balance          10000 non-null  float64\n",
      " 6   NumOfProducts    10000 non-null  int64  \n",
      " 7   HasCrCard        10000 non-null  int64  \n",
      " 8   IsActiveMember   10000 non-null  int64  \n",
      " 9   EstimatedSalary  10000 non-null  float64\n",
      " 10  Exited           10000 non-null  int64  \n",
      "dtypes: float64(2), int64(7), object(2)\n",
      "memory usage: 937.5+ KB\n"
     ]
    }
   ],
   "source": [
    "df.info()"
   ]
  },
  {
   "cell_type": "code",
   "execution_count": 6,
   "metadata": {
    "colab": {
     "base_uri": "https://localhost:8080/",
     "height": 171
    },
    "id": "j8u4ya9CIKaB",
    "outputId": "3ded02ce-42c3-442d-9615-5d0ab642db97"
   },
   "outputs": [
    {
     "data": {
      "text/html": [
       "<div>\n",
       "<style scoped>\n",
       "    .dataframe tbody tr th:only-of-type {\n",
       "        vertical-align: middle;\n",
       "    }\n",
       "\n",
       "    .dataframe tbody tr th {\n",
       "        vertical-align: top;\n",
       "    }\n",
       "\n",
       "    .dataframe thead th {\n",
       "        text-align: right;\n",
       "    }\n",
       "</style>\n",
       "<table border=\"1\" class=\"dataframe\">\n",
       "  <thead>\n",
       "    <tr style=\"text-align: right;\">\n",
       "      <th></th>\n",
       "      <th>Geography</th>\n",
       "      <th>Gender</th>\n",
       "    </tr>\n",
       "  </thead>\n",
       "  <tbody>\n",
       "    <tr>\n",
       "      <th>count</th>\n",
       "      <td>10000</td>\n",
       "      <td>10000</td>\n",
       "    </tr>\n",
       "    <tr>\n",
       "      <th>unique</th>\n",
       "      <td>3</td>\n",
       "      <td>2</td>\n",
       "    </tr>\n",
       "    <tr>\n",
       "      <th>top</th>\n",
       "      <td>France</td>\n",
       "      <td>Male</td>\n",
       "    </tr>\n",
       "    <tr>\n",
       "      <th>freq</th>\n",
       "      <td>5014</td>\n",
       "      <td>5457</td>\n",
       "    </tr>\n",
       "  </tbody>\n",
       "</table>\n",
       "</div>"
      ],
      "text/plain": [
       "       Geography Gender\n",
       "count      10000  10000\n",
       "unique         3      2\n",
       "top       France   Male\n",
       "freq        5014   5457"
      ]
     },
     "execution_count": 6,
     "metadata": {
      "tags": []
     },
     "output_type": "execute_result"
    }
   ],
   "source": [
    "df.describe(include='O')"
   ]
  },
  {
   "cell_type": "code",
   "execution_count": 7,
   "metadata": {
    "colab": {
     "base_uri": "https://localhost:8080/"
    },
    "id": "VM1N83NWIOss",
    "outputId": "9ba81246-ff7e-437b-dea1-fb6cc8754513"
   },
   "outputs": [
    {
     "data": {
      "text/plain": [
       "CreditScore        0\n",
       "Geography          0\n",
       "Gender             0\n",
       "Age                0\n",
       "Tenure             0\n",
       "Balance            0\n",
       "NumOfProducts      0\n",
       "HasCrCard          0\n",
       "IsActiveMember     0\n",
       "EstimatedSalary    0\n",
       "Exited             0\n",
       "dtype: int64"
      ]
     },
     "execution_count": 7,
     "metadata": {
      "tags": []
     },
     "output_type": "execute_result"
    }
   ],
   "source": [
    "df.isnull().sum()"
   ]
  },
  {
   "cell_type": "markdown",
   "metadata": {},
   "source": [
    "# DATA PREROCESSING"
   ]
  },
  {
   "cell_type": "code",
   "execution_count": 8,
   "metadata": {
    "colab": {
     "base_uri": "https://localhost:8080/",
     "height": 253
    },
    "id": "t7vuchK0I4b4",
    "outputId": "95abd384-60c0-4108-ea2a-51cb2512e712"
   },
   "outputs": [
    {
     "data": {
      "text/html": [
       "<div>\n",
       "<style scoped>\n",
       "    .dataframe tbody tr th:only-of-type {\n",
       "        vertical-align: middle;\n",
       "    }\n",
       "\n",
       "    .dataframe tbody tr th {\n",
       "        vertical-align: top;\n",
       "    }\n",
       "\n",
       "    .dataframe thead th {\n",
       "        text-align: right;\n",
       "    }\n",
       "</style>\n",
       "<table border=\"1\" class=\"dataframe\">\n",
       "  <thead>\n",
       "    <tr style=\"text-align: right;\">\n",
       "      <th></th>\n",
       "      <th>CreditScore</th>\n",
       "      <th>Age</th>\n",
       "      <th>Tenure</th>\n",
       "      <th>Balance</th>\n",
       "      <th>NumOfProducts</th>\n",
       "      <th>HasCrCard</th>\n",
       "      <th>IsActiveMember</th>\n",
       "      <th>EstimatedSalary</th>\n",
       "      <th>Exited</th>\n",
       "      <th>Geography_Germany</th>\n",
       "      <th>Geography_Spain</th>\n",
       "      <th>Gender_Male</th>\n",
       "    </tr>\n",
       "    <tr>\n",
       "      <th>RowNumber</th>\n",
       "      <th></th>\n",
       "      <th></th>\n",
       "      <th></th>\n",
       "      <th></th>\n",
       "      <th></th>\n",
       "      <th></th>\n",
       "      <th></th>\n",
       "      <th></th>\n",
       "      <th></th>\n",
       "      <th></th>\n",
       "      <th></th>\n",
       "      <th></th>\n",
       "    </tr>\n",
       "  </thead>\n",
       "  <tbody>\n",
       "    <tr>\n",
       "      <th>1</th>\n",
       "      <td>619</td>\n",
       "      <td>42</td>\n",
       "      <td>2</td>\n",
       "      <td>0.00</td>\n",
       "      <td>1</td>\n",
       "      <td>1</td>\n",
       "      <td>1</td>\n",
       "      <td>101348.88</td>\n",
       "      <td>1</td>\n",
       "      <td>0</td>\n",
       "      <td>0</td>\n",
       "      <td>0</td>\n",
       "    </tr>\n",
       "    <tr>\n",
       "      <th>2</th>\n",
       "      <td>608</td>\n",
       "      <td>41</td>\n",
       "      <td>1</td>\n",
       "      <td>83807.86</td>\n",
       "      <td>1</td>\n",
       "      <td>0</td>\n",
       "      <td>1</td>\n",
       "      <td>112542.58</td>\n",
       "      <td>0</td>\n",
       "      <td>0</td>\n",
       "      <td>1</td>\n",
       "      <td>0</td>\n",
       "    </tr>\n",
       "    <tr>\n",
       "      <th>3</th>\n",
       "      <td>502</td>\n",
       "      <td>42</td>\n",
       "      <td>8</td>\n",
       "      <td>159660.80</td>\n",
       "      <td>3</td>\n",
       "      <td>1</td>\n",
       "      <td>0</td>\n",
       "      <td>113931.57</td>\n",
       "      <td>1</td>\n",
       "      <td>0</td>\n",
       "      <td>0</td>\n",
       "      <td>0</td>\n",
       "    </tr>\n",
       "    <tr>\n",
       "      <th>4</th>\n",
       "      <td>699</td>\n",
       "      <td>39</td>\n",
       "      <td>1</td>\n",
       "      <td>0.00</td>\n",
       "      <td>2</td>\n",
       "      <td>0</td>\n",
       "      <td>0</td>\n",
       "      <td>93826.63</td>\n",
       "      <td>0</td>\n",
       "      <td>0</td>\n",
       "      <td>0</td>\n",
       "      <td>0</td>\n",
       "    </tr>\n",
       "    <tr>\n",
       "      <th>5</th>\n",
       "      <td>850</td>\n",
       "      <td>43</td>\n",
       "      <td>2</td>\n",
       "      <td>125510.82</td>\n",
       "      <td>1</td>\n",
       "      <td>1</td>\n",
       "      <td>1</td>\n",
       "      <td>79084.10</td>\n",
       "      <td>0</td>\n",
       "      <td>0</td>\n",
       "      <td>1</td>\n",
       "      <td>0</td>\n",
       "    </tr>\n",
       "  </tbody>\n",
       "</table>\n",
       "</div>"
      ],
      "text/plain": [
       "           CreditScore  Age  ...  Geography_Spain  Gender_Male\n",
       "RowNumber                    ...                              \n",
       "1                  619   42  ...                0            0\n",
       "2                  608   41  ...                1            0\n",
       "3                  502   42  ...                0            0\n",
       "4                  699   39  ...                0            0\n",
       "5                  850   43  ...                1            0\n",
       "\n",
       "[5 rows x 12 columns]"
      ]
     },
     "execution_count": 8,
     "metadata": {
      "tags": []
     },
     "output_type": "execute_result"
    }
   ],
   "source": [
    "# TRANSFORMING CATEGORICAL COLUMNS INTO NUMERIC\n",
    "\n",
    "df = pd.get_dummies(df, columns=['Geography', 'Gender'], drop_first=True)\n",
    "df.head()"
   ]
  },
  {
   "cell_type": "code",
   "execution_count": 9,
   "metadata": {
    "colab": {
     "base_uri": "https://localhost:8080/",
     "height": 279
    },
    "id": "jJvZQj6iIUgo",
    "outputId": "96135639-4080-47cb-fe58-2ae3da9c6a28"
   },
   "outputs": [
    {
     "data": {
      "image/png": "[encoded data removed]",
      "text/plain": [
       "<Figure size 432x288 with 1 Axes>"
      ]
     },
     "metadata": {
      "needs_background": "light",
      "tags": []
     },
     "output_type": "display_data"
    }
   ],
   "source": [
    "sns.countplot(x=df['Exited'])\n",
    "plt.show()"
   ]
  },
  {
   "cell_type": "code",
   "execution_count": 10,
   "metadata": {
    "colab": {
     "base_uri": "https://localhost:8080/"
    },
    "id": "v1aJqDL-Ibz3",
    "outputId": "4df7acc5-d1c8-47a0-96e5-6dc1df842ea4"
   },
   "outputs": [
    {
     "name": "stderr",
     "output_type": "stream",
     "text": [
      "/usr/local/lib/python3.7/dist-packages/sklearn/externals/six.py:31: FutureWarning: The module is deprecated in version 0.21 and will be removed in version 0.23 since we've dropped support for Python 2.7. Please rely on the official version of six (https://pypi.org/project/six/).\n",
      "  \"(https://pypi.org/project/six/).\", FutureWarning)\n",
      "/usr/local/lib/python3.7/dist-packages/sklearn/utils/deprecation.py:144: FutureWarning: The sklearn.neighbors.base module is  deprecated in version 0.22 and will be removed in version 0.24. The corresponding classes / functions should instead be imported from sklearn.neighbors. Anything that cannot be imported from sklearn.neighbors is now part of the private API.\n",
      "  warnings.warn(message, FutureWarning)\n",
      "/usr/local/lib/python3.7/dist-packages/sklearn/utils/deprecation.py:87: FutureWarning: Function safe_indexing is deprecated; safe_indexing is deprecated in version 0.22 and will be removed in version 0.24.\n",
      "  warnings.warn(msg, category=FutureWarning)\n"
     ]
    },
    {
     "data": {
      "text/plain": [
       "((15926, 11), (15926,))"
      ]
     },
     "execution_count": 10,
     "metadata": {
      "tags": []
     },
     "output_type": "execute_result"
    }
   ],
   "source": [
    "# DATA IS HIGHLY IMBALANCED SO TAKING CARE OF IT \n",
    "\n",
    "from imblearn.over_sampling import SMOTE\n",
    "x_new, y_new = SMOTE().fit_resample(df.drop('Exited', axis=1), df['Exited'])\n",
    "x_new.shape, y_new.shape"
   ]
  },
  {
   "cell_type": "code",
   "execution_count": 11,
   "metadata": {
    "colab": {
     "base_uri": "https://localhost:8080/",
     "height": 283
    },
    "id": "nVz4t8gAI1MC",
    "outputId": "13e8b999-5a67-4d52-e70d-3e7967ad4d81"
   },
   "outputs": [
    {
     "data": {
      "text/plain": [
       "<matplotlib.axes._subplots.AxesSubplot at 0x7f719db29750>"
      ]
     },
     "execution_count": 11,
     "metadata": {
      "tags": []
     },
     "output_type": "execute_result"
    },
    {
     "data": {
      "image/png": "[encoded data removed]",
      "text/plain": [
       "<Figure size 432x288 with 1 Axes>"
      ]
     },
     "metadata": {
      "needs_background": "light",
      "tags": []
     },
     "output_type": "display_data"
    }
   ],
   "source": [
    "sns.countplot(x=y_new)"
   ]
  },
  {
   "cell_type": "code",
   "execution_count": 12,
   "metadata": {
    "colab": {
     "base_uri": "https://localhost:8080/"
    },
    "id": "m9yMbqCMJJmX",
    "outputId": "6f55094a-eb48-4463-f089-bd9d88b67516"
   },
   "outputs": [
    {
     "data": {
      "text/plain": [
       "(11944, 3982)"
      ]
     },
     "execution_count": 12,
     "metadata": {
      "tags": []
     },
     "output_type": "execute_result"
    }
   ],
   "source": [
    "# SPLITTING THE DATA INTO TRAIN ANS TEST SET\n",
    "\n",
    "from sklearn.model_selection import train_test_split\n",
    "x_train, x_test, y_train, y_test = train_test_split(x_new, y_new, test_size=0.25, random_state=42)\n",
    "len(x_train), len(x_test)"
   ]
  },
  {
   "cell_type": "code",
   "execution_count": 13,
   "metadata": {
    "id": "yyVuryR1Lh_J"
   },
   "outputs": [],
   "source": [
    "# FEATURE SCALING\n",
    "\n",
    "from sklearn.preprocessing import StandardScaler\n",
    "sc=StandardScaler()\n",
    "\n",
    "x_train = sc.fit_transform(x_train)\n",
    "x_test = sc.transform(x_test)"
   ]
  },
  {
   "cell_type": "markdown",
   "metadata": {},
   "source": [
    "# BUILDING THE MODEL"
   ]
  },
  {
   "cell_type": "code",
   "execution_count": 14,
   "metadata": {
    "id": "dr7gr4utJZli"
   },
   "outputs": [],
   "source": [
    "\n",
    "# INITIALISING THE ANN\n",
    "model = tf.keras.models.Sequential([\n",
    "                                    \n",
    "                                    # FIRST HIDDEN LAYER\n",
    "                                    tf.keras.layers.Dense(units=10, activation='relu', input_shape=(11,)),\n",
    "                                    \n",
    "                                    # SECOND HIDDEN LAYER\n",
    "                                    tf.keras.layers.Dense(units=10, activation='relu'),\n",
    "                                     \n",
    "                                     # OUTPUT LAYER\n",
    "                                    tf.keras.layers.Dense(units=1, activation='sigmoid')\n",
    "])"
   ]
  },
  {
   "cell_type": "code",
   "execution_count": 15,
   "metadata": {
    "colab": {
     "base_uri": "https://localhost:8080/"
    },
    "id": "bRI-TRpEMUQT",
    "outputId": "b31897f9-5ed9-43d9-8207-3aece9dbbf13"
   },
   "outputs": [
    {
     "name": "stdout",
     "output_type": "stream",
     "text": [
      "Model: \"sequential\"\n",
      "_________________________________________________________________\n",
      "Layer (type)                 Output Shape              Param #   \n",
      "=================================================================\n",
      "dense (Dense)                (None, 10)                120       \n",
      "_________________________________________________________________\n",
      "dense_1 (Dense)              (None, 10)                110       \n",
      "_________________________________________________________________\n",
      "dense_2 (Dense)              (None, 1)                 11        \n",
      "=================================================================\n",
      "Total params: 241\n",
      "Trainable params: 241\n",
      "Non-trainable params: 0\n",
      "_________________________________________________________________\n"
     ]
    }
   ],
   "source": [
    "model.summary()"
   ]
  },
  {
   "cell_type": "code",
   "execution_count": 16,
   "metadata": {
    "id": "xaTGZ-blKs3k"
   },
   "outputs": [],
   "source": [
    "# OMPPILING THE MODEL\n",
    "\n",
    "model.compile(optimizer='adam', loss='binary_crossentropy', metrics=['accuracy'])"
   ]
  },
  {
   "cell_type": "code",
   "execution_count": 17,
   "metadata": {
    "colab": {
     "base_uri": "https://localhost:8080/"
    },
    "id": "_bvEESe3K2Vw",
    "outputId": "2cc33a8a-60e7-475b-83e9-f50cfc9ec789"
   },
   "outputs": [
    {
     "name": "stdout",
     "output_type": "stream",
     "text": [
      "Epoch 1/110\n",
      "374/374 [==============================] - 2s 3ms/step - loss: 0.6721 - accuracy: 0.5683 - val_loss: 0.6064 - val_accuracy: 0.6836\n",
      "Epoch 2/110\n",
      "374/374 [==============================] - 1s 2ms/step - loss: 0.5827 - accuracy: 0.7043 - val_loss: 0.5680 - val_accuracy: 0.7212\n",
      "Epoch 3/110\n",
      "374/374 [==============================] - 1s 2ms/step - loss: 0.5593 - accuracy: 0.7217 - val_loss: 0.5472 - val_accuracy: 0.7413\n",
      "Epoch 4/110\n",
      "374/374 [==============================] - 1s 2ms/step - loss: 0.5370 - accuracy: 0.7383 - val_loss: 0.5275 - val_accuracy: 0.7526\n",
      "Epoch 5/110\n",
      "374/374 [==============================] - 1s 2ms/step - loss: 0.5132 - accuracy: 0.7516 - val_loss: 0.5091 - val_accuracy: 0.7534\n",
      "Epoch 6/110\n",
      "374/374 [==============================] - 1s 2ms/step - loss: 0.4910 - accuracy: 0.7607 - val_loss: 0.4956 - val_accuracy: 0.7609\n",
      "Epoch 7/110\n",
      "374/374 [==============================] - 1s 2ms/step - loss: 0.4807 - accuracy: 0.7725 - val_loss: 0.4850 - val_accuracy: 0.7672\n",
      "Epoch 8/110\n",
      "374/374 [==============================] - 1s 2ms/step - loss: 0.4668 - accuracy: 0.7822 - val_loss: 0.4742 - val_accuracy: 0.7737\n",
      "Epoch 9/110\n",
      "374/374 [==============================] - 1s 2ms/step - loss: 0.4628 - accuracy: 0.7856 - val_loss: 0.4592 - val_accuracy: 0.7838\n",
      "Epoch 10/110\n",
      "374/374 [==============================] - 1s 2ms/step - loss: 0.4542 - accuracy: 0.7900 - val_loss: 0.4510 - val_accuracy: 0.7880\n",
      "Epoch 11/110\n",
      "374/374 [==============================] - 1s 2ms/step - loss: 0.4386 - accuracy: 0.8012 - val_loss: 0.4399 - val_accuracy: 0.7956\n",
      "Epoch 12/110\n",
      "374/374 [==============================] - 1s 2ms/step - loss: 0.4331 - accuracy: 0.7991 - val_loss: 0.4307 - val_accuracy: 0.8041\n",
      "Epoch 13/110\n",
      "374/374 [==============================] - 1s 2ms/step - loss: 0.4239 - accuracy: 0.8053 - val_loss: 0.4257 - val_accuracy: 0.8059\n",
      "Epoch 14/110\n",
      "374/374 [==============================] - 1s 2ms/step - loss: 0.4144 - accuracy: 0.8161 - val_loss: 0.4192 - val_accuracy: 0.8074\n",
      "Epoch 15/110\n",
      "374/374 [==============================] - 1s 2ms/step - loss: 0.4073 - accuracy: 0.8131 - val_loss: 0.4096 - val_accuracy: 0.8119\n",
      "Epoch 16/110\n",
      "374/374 [==============================] - 1s 2ms/step - loss: 0.3967 - accuracy: 0.8194 - val_loss: 0.4045 - val_accuracy: 0.8157\n",
      "Epoch 17/110\n",
      "374/374 [==============================] - 1s 2ms/step - loss: 0.4008 - accuracy: 0.8194 - val_loss: 0.3968 - val_accuracy: 0.8204\n",
      "Epoch 18/110\n",
      "374/374 [==============================] - 1s 2ms/step - loss: 0.3919 - accuracy: 0.8269 - val_loss: 0.3922 - val_accuracy: 0.8242\n",
      "Epoch 19/110\n",
      "374/374 [==============================] - 1s 2ms/step - loss: 0.3801 - accuracy: 0.8311 - val_loss: 0.3853 - val_accuracy: 0.8297\n",
      "Epoch 20/110\n",
      "374/374 [==============================] - 1s 2ms/step - loss: 0.3809 - accuracy: 0.8342 - val_loss: 0.3810 - val_accuracy: 0.8338\n",
      "Epoch 21/110\n",
      "374/374 [==============================] - 1s 2ms/step - loss: 0.3664 - accuracy: 0.8389 - val_loss: 0.3760 - val_accuracy: 0.8350\n",
      "Epoch 22/110\n",
      "374/374 [==============================] - 1s 2ms/step - loss: 0.3606 - accuracy: 0.8398 - val_loss: 0.3703 - val_accuracy: 0.8423\n",
      "Epoch 23/110\n",
      "374/374 [==============================] - 1s 2ms/step - loss: 0.3660 - accuracy: 0.8397 - val_loss: 0.3668 - val_accuracy: 0.8375\n",
      "Epoch 24/110\n",
      "374/374 [==============================] - 1s 2ms/step - loss: 0.3605 - accuracy: 0.8426 - val_loss: 0.3602 - val_accuracy: 0.8418\n",
      "Epoch 25/110\n",
      "374/374 [==============================] - 1s 2ms/step - loss: 0.3559 - accuracy: 0.8441 - val_loss: 0.3578 - val_accuracy: 0.8456\n",
      "Epoch 26/110\n",
      "374/374 [==============================] - 1s 2ms/step - loss: 0.3521 - accuracy: 0.8505 - val_loss: 0.3546 - val_accuracy: 0.8466\n",
      "Epoch 27/110\n",
      "374/374 [==============================] - 1s 2ms/step - loss: 0.3457 - accuracy: 0.8487 - val_loss: 0.3496 - val_accuracy: 0.8486\n",
      "Epoch 28/110\n",
      "374/374 [==============================] - 1s 2ms/step - loss: 0.3484 - accuracy: 0.8452 - val_loss: 0.3446 - val_accuracy: 0.8503\n",
      "Epoch 29/110\n",
      "374/374 [==============================] - 1s 2ms/step - loss: 0.3487 - accuracy: 0.8497 - val_loss: 0.3424 - val_accuracy: 0.8471\n",
      "Epoch 30/110\n",
      "374/374 [==============================] - 1s 2ms/step - loss: 0.3339 - accuracy: 0.8572 - val_loss: 0.3395 - val_accuracy: 0.8541\n",
      "Epoch 31/110\n",
      "374/374 [==============================] - 1s 2ms/step - loss: 0.3366 - accuracy: 0.8521 - val_loss: 0.3416 - val_accuracy: 0.8523\n",
      "Epoch 32/110\n",
      "374/374 [==============================] - 1s 2ms/step - loss: 0.3312 - accuracy: 0.8556 - val_loss: 0.3328 - val_accuracy: 0.8546\n",
      "Epoch 33/110\n",
      "374/374 [==============================] - 1s 2ms/step - loss: 0.3348 - accuracy: 0.8552 - val_loss: 0.3298 - val_accuracy: 0.8551\n",
      "Epoch 34/110\n",
      "374/374 [==============================] - 1s 2ms/step - loss: 0.3235 - accuracy: 0.8597 - val_loss: 0.3284 - val_accuracy: 0.8616\n",
      "Epoch 35/110\n",
      "374/374 [==============================] - 1s 2ms/step - loss: 0.3346 - accuracy: 0.8561 - val_loss: 0.3302 - val_accuracy: 0.8548\n",
      "Epoch 36/110\n",
      "374/374 [==============================] - 1s 2ms/step - loss: 0.3180 - accuracy: 0.8624 - val_loss: 0.3298 - val_accuracy: 0.8581\n",
      "Epoch 37/110\n",
      "374/374 [==============================] - 1s 2ms/step - loss: 0.3177 - accuracy: 0.8629 - val_loss: 0.3284 - val_accuracy: 0.8548\n",
      "Epoch 38/110\n",
      "374/374 [==============================] - 1s 2ms/step - loss: 0.3224 - accuracy: 0.8608 - val_loss: 0.3244 - val_accuracy: 0.8656\n",
      "Epoch 39/110\n",
      "374/374 [==============================] - 1s 2ms/step - loss: 0.3239 - accuracy: 0.8595 - val_loss: 0.3217 - val_accuracy: 0.8599\n",
      "Epoch 40/110\n",
      "374/374 [==============================] - 1s 2ms/step - loss: 0.3102 - accuracy: 0.8669 - val_loss: 0.3168 - val_accuracy: 0.8646\n",
      "Epoch 41/110\n",
      "374/374 [==============================] - 1s 2ms/step - loss: 0.3148 - accuracy: 0.8625 - val_loss: 0.3271 - val_accuracy: 0.8553\n",
      "Epoch 42/110\n",
      "374/374 [==============================] - 1s 2ms/step - loss: 0.3170 - accuracy: 0.8639 - val_loss: 0.3158 - val_accuracy: 0.8634\n",
      "Epoch 43/110\n",
      "374/374 [==============================] - 1s 2ms/step - loss: 0.3114 - accuracy: 0.8670 - val_loss: 0.3158 - val_accuracy: 0.8664\n",
      "Epoch 44/110\n",
      "374/374 [==============================] - 1s 2ms/step - loss: 0.3114 - accuracy: 0.8652 - val_loss: 0.3148 - val_accuracy: 0.8649\n",
      "Epoch 45/110\n",
      "374/374 [==============================] - 1s 2ms/step - loss: 0.3131 - accuracy: 0.8624 - val_loss: 0.3124 - val_accuracy: 0.8687\n",
      "Epoch 46/110\n",
      "374/374 [==============================] - 1s 2ms/step - loss: 0.3064 - accuracy: 0.8668 - val_loss: 0.3129 - val_accuracy: 0.8661\n",
      "Epoch 47/110\n",
      "374/374 [==============================] - 1s 2ms/step - loss: 0.3030 - accuracy: 0.8707 - val_loss: 0.3132 - val_accuracy: 0.8679\n",
      "Epoch 48/110\n",
      "374/374 [==============================] - 1s 2ms/step - loss: 0.2994 - accuracy: 0.8707 - val_loss: 0.3182 - val_accuracy: 0.8616\n",
      "Epoch 49/110\n",
      "374/374 [==============================] - 1s 2ms/step - loss: 0.3030 - accuracy: 0.8706 - val_loss: 0.3129 - val_accuracy: 0.8651\n",
      "Epoch 50/110\n",
      "374/374 [==============================] - 1s 2ms/step - loss: 0.3099 - accuracy: 0.8692 - val_loss: 0.3114 - val_accuracy: 0.8661\n",
      "Epoch 51/110\n",
      "374/374 [==============================] - 1s 2ms/step - loss: 0.2980 - accuracy: 0.8742 - val_loss: 0.3078 - val_accuracy: 0.8709\n",
      "Epoch 52/110\n",
      "374/374 [==============================] - 1s 2ms/step - loss: 0.2997 - accuracy: 0.8703 - val_loss: 0.3062 - val_accuracy: 0.8699\n",
      "Epoch 53/110\n",
      "374/374 [==============================] - 1s 2ms/step - loss: 0.3003 - accuracy: 0.8686 - val_loss: 0.3090 - val_accuracy: 0.8664\n",
      "Epoch 54/110\n",
      "374/374 [==============================] - 1s 2ms/step - loss: 0.2998 - accuracy: 0.8733 - val_loss: 0.3074 - val_accuracy: 0.8697\n",
      "Epoch 55/110\n",
      "374/374 [==============================] - 1s 2ms/step - loss: 0.2933 - accuracy: 0.8721 - val_loss: 0.3044 - val_accuracy: 0.8679\n",
      "Epoch 56/110\n",
      "374/374 [==============================] - 1s 2ms/step - loss: 0.3007 - accuracy: 0.8700 - val_loss: 0.3035 - val_accuracy: 0.8699\n",
      "Epoch 57/110\n",
      "374/374 [==============================] - 1s 2ms/step - loss: 0.3026 - accuracy: 0.8712 - val_loss: 0.2992 - val_accuracy: 0.8697\n",
      "Epoch 58/110\n",
      "374/374 [==============================] - 1s 2ms/step - loss: 0.2949 - accuracy: 0.8693 - val_loss: 0.3097 - val_accuracy: 0.8699\n",
      "Epoch 59/110\n",
      "374/374 [==============================] - 1s 2ms/step - loss: 0.2920 - accuracy: 0.8742 - val_loss: 0.3062 - val_accuracy: 0.8719\n",
      "Epoch 60/110\n",
      "374/374 [==============================] - 1s 2ms/step - loss: 0.2988 - accuracy: 0.8707 - val_loss: 0.3024 - val_accuracy: 0.8719\n",
      "Epoch 61/110\n",
      "374/374 [==============================] - 1s 2ms/step - loss: 0.2916 - accuracy: 0.8751 - val_loss: 0.2992 - val_accuracy: 0.8699\n",
      "Epoch 62/110\n",
      "374/374 [==============================] - 1s 2ms/step - loss: 0.2982 - accuracy: 0.8715 - val_loss: 0.2995 - val_accuracy: 0.8712\n",
      "Epoch 63/110\n",
      "374/374 [==============================] - 1s 2ms/step - loss: 0.2846 - accuracy: 0.8752 - val_loss: 0.2972 - val_accuracy: 0.8754\n",
      "Epoch 64/110\n",
      "374/374 [==============================] - 1s 2ms/step - loss: 0.2815 - accuracy: 0.8792 - val_loss: 0.2980 - val_accuracy: 0.8734\n",
      "Epoch 65/110\n",
      "374/374 [==============================] - 1s 2ms/step - loss: 0.2891 - accuracy: 0.8748 - val_loss: 0.3014 - val_accuracy: 0.8734\n",
      "Epoch 66/110\n",
      "374/374 [==============================] - 1s 2ms/step - loss: 0.2896 - accuracy: 0.8740 - val_loss: 0.2974 - val_accuracy: 0.8737\n",
      "Epoch 67/110\n",
      "374/374 [==============================] - 1s 2ms/step - loss: 0.2950 - accuracy: 0.8705 - val_loss: 0.2998 - val_accuracy: 0.8712\n",
      "Epoch 68/110\n",
      "374/374 [==============================] - 1s 2ms/step - loss: 0.2948 - accuracy: 0.8695 - val_loss: 0.2967 - val_accuracy: 0.8712\n",
      "Epoch 69/110\n",
      "374/374 [==============================] - 1s 2ms/step - loss: 0.2925 - accuracy: 0.8695 - val_loss: 0.2954 - val_accuracy: 0.8749\n",
      "Epoch 70/110\n",
      "374/374 [==============================] - 1s 2ms/step - loss: 0.2845 - accuracy: 0.8742 - val_loss: 0.2981 - val_accuracy: 0.8737\n",
      "Epoch 71/110\n",
      "374/374 [==============================] - 1s 2ms/step - loss: 0.2809 - accuracy: 0.8803 - val_loss: 0.2946 - val_accuracy: 0.8764\n",
      "Epoch 72/110\n",
      "374/374 [==============================] - 1s 2ms/step - loss: 0.2882 - accuracy: 0.8769 - val_loss: 0.2955 - val_accuracy: 0.8714\n",
      "Epoch 73/110\n",
      "374/374 [==============================] - 1s 2ms/step - loss: 0.2871 - accuracy: 0.8770 - val_loss: 0.2982 - val_accuracy: 0.8684\n",
      "Epoch 74/110\n",
      "374/374 [==============================] - 1s 2ms/step - loss: 0.2822 - accuracy: 0.8784 - val_loss: 0.2946 - val_accuracy: 0.8785\n",
      "Epoch 75/110\n",
      "374/374 [==============================] - 1s 2ms/step - loss: 0.2825 - accuracy: 0.8797 - val_loss: 0.2924 - val_accuracy: 0.8780\n",
      "Epoch 76/110\n",
      "374/374 [==============================] - 1s 2ms/step - loss: 0.2946 - accuracy: 0.8712 - val_loss: 0.2926 - val_accuracy: 0.8747\n",
      "Epoch 77/110\n",
      "374/374 [==============================] - 1s 2ms/step - loss: 0.2823 - accuracy: 0.8745 - val_loss: 0.2986 - val_accuracy: 0.8694\n",
      "Epoch 78/110\n",
      "374/374 [==============================] - 1s 2ms/step - loss: 0.2858 - accuracy: 0.8751 - val_loss: 0.2909 - val_accuracy: 0.8790\n",
      "Epoch 79/110\n",
      "374/374 [==============================] - 1s 2ms/step - loss: 0.2851 - accuracy: 0.8735 - val_loss: 0.2917 - val_accuracy: 0.8757\n",
      "Epoch 80/110\n",
      "374/374 [==============================] - 1s 2ms/step - loss: 0.2855 - accuracy: 0.8751 - val_loss: 0.2901 - val_accuracy: 0.8772\n",
      "Epoch 81/110\n",
      "374/374 [==============================] - 1s 2ms/step - loss: 0.2834 - accuracy: 0.8736 - val_loss: 0.2905 - val_accuracy: 0.8762\n",
      "Epoch 82/110\n",
      "374/374 [==============================] - 1s 2ms/step - loss: 0.2750 - accuracy: 0.8808 - val_loss: 0.2890 - val_accuracy: 0.8754\n",
      "Epoch 83/110\n",
      "374/374 [==============================] - 1s 2ms/step - loss: 0.2841 - accuracy: 0.8724 - val_loss: 0.3008 - val_accuracy: 0.8687\n",
      "Epoch 84/110\n",
      "374/374 [==============================] - 1s 2ms/step - loss: 0.2791 - accuracy: 0.8807 - val_loss: 0.2978 - val_accuracy: 0.8734\n",
      "Epoch 85/110\n",
      "374/374 [==============================] - 1s 2ms/step - loss: 0.2812 - accuracy: 0.8790 - val_loss: 0.2914 - val_accuracy: 0.8767\n",
      "Epoch 86/110\n",
      "374/374 [==============================] - 1s 2ms/step - loss: 0.2861 - accuracy: 0.8754 - val_loss: 0.2906 - val_accuracy: 0.8800\n",
      "Epoch 87/110\n",
      "374/374 [==============================] - 1s 2ms/step - loss: 0.2840 - accuracy: 0.8755 - val_loss: 0.2898 - val_accuracy: 0.8747\n",
      "Epoch 88/110\n",
      "374/374 [==============================] - 1s 2ms/step - loss: 0.2706 - accuracy: 0.8863 - val_loss: 0.2927 - val_accuracy: 0.8749\n",
      "Epoch 89/110\n",
      "374/374 [==============================] - 1s 2ms/step - loss: 0.2742 - accuracy: 0.8831 - val_loss: 0.2875 - val_accuracy: 0.8764\n",
      "Epoch 90/110\n",
      "374/374 [==============================] - 1s 2ms/step - loss: 0.2825 - accuracy: 0.8794 - val_loss: 0.2963 - val_accuracy: 0.8769\n",
      "Epoch 91/110\n",
      "374/374 [==============================] - 1s 2ms/step - loss: 0.2792 - accuracy: 0.8750 - val_loss: 0.2879 - val_accuracy: 0.8787\n",
      "Epoch 92/110\n",
      "374/374 [==============================] - 1s 2ms/step - loss: 0.2787 - accuracy: 0.8802 - val_loss: 0.2881 - val_accuracy: 0.8752\n",
      "Epoch 93/110\n",
      "374/374 [==============================] - 1s 2ms/step - loss: 0.2846 - accuracy: 0.8770 - val_loss: 0.2863 - val_accuracy: 0.8780\n",
      "Epoch 94/110\n",
      "374/374 [==============================] - 1s 2ms/step - loss: 0.2819 - accuracy: 0.8772 - val_loss: 0.2880 - val_accuracy: 0.8785\n",
      "Epoch 95/110\n",
      "374/374 [==============================] - 1s 2ms/step - loss: 0.2802 - accuracy: 0.8788 - val_loss: 0.2914 - val_accuracy: 0.8759\n",
      "Epoch 96/110\n",
      "374/374 [==============================] - 1s 2ms/step - loss: 0.2831 - accuracy: 0.8766 - val_loss: 0.2862 - val_accuracy: 0.8782\n",
      "Epoch 97/110\n",
      "374/374 [==============================] - 1s 2ms/step - loss: 0.2814 - accuracy: 0.8777 - val_loss: 0.2914 - val_accuracy: 0.8714\n",
      "Epoch 98/110\n",
      "374/374 [==============================] - 1s 2ms/step - loss: 0.2823 - accuracy: 0.8748 - val_loss: 0.2932 - val_accuracy: 0.8742\n",
      "Epoch 99/110\n",
      "374/374 [==============================] - 1s 2ms/step - loss: 0.2746 - accuracy: 0.8804 - val_loss: 0.2865 - val_accuracy: 0.8795\n",
      "Epoch 100/110\n",
      "374/374 [==============================] - 1s 2ms/step - loss: 0.2689 - accuracy: 0.8810 - val_loss: 0.2880 - val_accuracy: 0.8792\n",
      "Epoch 101/110\n",
      "374/374 [==============================] - 1s 2ms/step - loss: 0.2697 - accuracy: 0.8793 - val_loss: 0.2884 - val_accuracy: 0.8732\n",
      "Epoch 102/110\n",
      "374/374 [==============================] - 1s 2ms/step - loss: 0.2814 - accuracy: 0.8784 - val_loss: 0.2878 - val_accuracy: 0.8792\n",
      "Epoch 103/110\n",
      "374/374 [==============================] - 1s 2ms/step - loss: 0.2649 - accuracy: 0.8862 - val_loss: 0.2878 - val_accuracy: 0.8800\n",
      "Epoch 104/110\n",
      "374/374 [==============================] - 1s 2ms/step - loss: 0.2745 - accuracy: 0.8846 - val_loss: 0.2856 - val_accuracy: 0.8729\n",
      "Epoch 105/110\n",
      "374/374 [==============================] - 1s 2ms/step - loss: 0.2820 - accuracy: 0.8801 - val_loss: 0.2873 - val_accuracy: 0.8749\n",
      "Epoch 106/110\n",
      "374/374 [==============================] - 1s 2ms/step - loss: 0.2765 - accuracy: 0.8785 - val_loss: 0.2835 - val_accuracy: 0.8820\n",
      "Epoch 107/110\n",
      "374/374 [==============================] - 1s 2ms/step - loss: 0.2782 - accuracy: 0.8780 - val_loss: 0.2895 - val_accuracy: 0.8752\n",
      "Epoch 108/110\n",
      "374/374 [==============================] - 1s 2ms/step - loss: 0.2701 - accuracy: 0.8856 - val_loss: 0.2865 - val_accuracy: 0.8742\n",
      "Epoch 109/110\n",
      "374/374 [==============================] - 1s 2ms/step - loss: 0.2795 - accuracy: 0.8792 - val_loss: 0.2901 - val_accuracy: 0.8747\n",
      "Epoch 110/110\n",
      "374/374 [==============================] - 1s 2ms/step - loss: 0.2740 - accuracy: 0.8812 - val_loss: 0.2936 - val_accuracy: 0.8757\n"
     ]
    },
    {
     "data": {
      "text/plain": [
       "<tensorflow.python.keras.callbacks.History at 0x7f71998074d0>"
      ]
     },
     "execution_count": 17,
     "metadata": {
      "tags": []
     },
     "output_type": "execute_result"
    }
   ],
   "source": [
    "# TRAINING THE MODEL ON TRAIN SET AND EVALUATING ON TEST SET\n",
    "\n",
    "model.fit(x_train, y_train, batch_size=32, epochs=110, validation_data=(x_test,y_test), verbose=1)"
   ]
  },
  {
   "cell_type": "code",
   "execution_count": 18,
   "metadata": {
    "id": "84C37iycK-7e"
   },
   "outputs": [],
   "source": [
    "# MAKING PREDICTION\n",
    "\n",
    "y_pred = model.predict(x_test)\n",
    "y_pred = (y_pred > 0.5)"
   ]
  },
  {
   "cell_type": "code",
   "execution_count": 19,
   "metadata": {
    "colab": {
     "base_uri": "https://localhost:8080/",
     "height": 439
    },
    "id": "QFf-PAYcMvfN",
    "outputId": "28fb47bd-7d63-412b-9927-97111becf0c7"
   },
   "outputs": [
    {
     "name": "stdout",
     "output_type": "stream",
     "text": [
      "0.8756906077348067\n",
      "              precision    recall  f1-score   support\n",
      "\n",
      "           0       0.83      0.95      0.89      2036\n",
      "           1       0.94      0.80      0.86      1946\n",
      "\n",
      "    accuracy                           0.88      3982\n",
      "   macro avg       0.88      0.87      0.87      3982\n",
      "weighted avg       0.88      0.88      0.87      3982\n",
      "\n"
     ]
    },
    {
     "data": {
      "image/png": "[encoded data removed]",
      "text/plain": [
       "<Figure size 432x288 with 2 Axes>"
      ]
     },
     "metadata": {
      "needs_background": "light",
      "tags": []
     },
     "output_type": "display_data"
    }
   ],
   "source": [
    "# PLOTTING CONFUSION MATRIX\n",
    "\n",
    "from sklearn.metrics import accuracy_score, classification_report, confusion_matrix\n",
    "print(accuracy_score(y_test, y_pred))\n",
    "print(classification_report(y_test, y_pred))\n",
    "cm=confusion_matrix(y_test, y_pred)\n",
    "\n",
    "sns.heatmap(cm, annot=True, lw=3, fmt='d')\n",
    "plt.show()"
   ]
  },
  {
   "cell_type": "code",
   "execution_count": 19,
   "metadata": {
    "id": "osSSFUXXNQwh"
   },
   "outputs": [],
   "source": []
  }
 ],
 "metadata": {
  "colab": {
   "name": "ANN ( BINARY-CLASSIFICATION ).ipynb",
   "provenance": []
  },
  "kernelspec": {
   "display_name": "Python 3",
   "language": "python",
   "name": "python3"
  },
  "language_info": {
   "codemirror_mode": {
    "name": "ipython",
    "version": 3
   },
   "file_extension": ".py",
   "mimetype": "text/x-python",
   "name": "python",
   "nbconvert_exporter": "python",
   "pygments_lexer": "ipython3",
   "version": "3.7.6"
  }
 },
 "nbformat": 4,
 "nbformat_minor": 1
}
