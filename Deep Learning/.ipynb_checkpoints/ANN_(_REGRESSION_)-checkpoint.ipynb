{
 "cells": [
  {
   "cell_type": "markdown",
   "metadata": {},
   "source": [
    "# PERFORMING EDA  AND DATA PREPROCESSING"
   ]
  },
  {
   "cell_type": "code",
   "execution_count": 1,
   "metadata": {
    "id": "ZfdvH14DK-ZN"
   },
   "outputs": [],
   "source": [
    "# IMPORTING THE LIBRARIES\n",
    "\n",
    "import pandas as pd\n",
    "import numpy as np\n",
    "import matplotlib.pyplot as plt\n",
    "import seaborn as sns\n",
    "import tensorflow as tf"
   ]
  },
  {
   "cell_type": "code",
   "execution_count": 2,
   "metadata": {
    "colab": {
     "base_uri": "https://localhost:8080/",
     "height": 202
    },
    "id": "ZGYhhh9GLW8G",
    "outputId": "46022d5d-5fc7-4232-cea0-b98b0cf8bee7"
   },
   "outputs": [
    {
     "data": {
      "text/html": [
       "<div>\n",
       "<style scoped>\n",
       "    .dataframe tbody tr th:only-of-type {\n",
       "        vertical-align: middle;\n",
       "    }\n",
       "\n",
       "    .dataframe tbody tr th {\n",
       "        vertical-align: top;\n",
       "    }\n",
       "\n",
       "    .dataframe thead th {\n",
       "        text-align: right;\n",
       "    }\n",
       "</style>\n",
       "<table border=\"1\" class=\"dataframe\">\n",
       "  <thead>\n",
       "    <tr style=\"text-align: right;\">\n",
       "      <th></th>\n",
       "      <th>AT</th>\n",
       "      <th>V</th>\n",
       "      <th>AP</th>\n",
       "      <th>RH</th>\n",
       "      <th>PE</th>\n",
       "    </tr>\n",
       "  </thead>\n",
       "  <tbody>\n",
       "    <tr>\n",
       "      <th>0</th>\n",
       "      <td>14.96</td>\n",
       "      <td>41.76</td>\n",
       "      <td>1024.07</td>\n",
       "      <td>73.17</td>\n",
       "      <td>463.26</td>\n",
       "    </tr>\n",
       "    <tr>\n",
       "      <th>1</th>\n",
       "      <td>25.18</td>\n",
       "      <td>62.96</td>\n",
       "      <td>1020.04</td>\n",
       "      <td>59.08</td>\n",
       "      <td>444.37</td>\n",
       "    </tr>\n",
       "    <tr>\n",
       "      <th>2</th>\n",
       "      <td>5.11</td>\n",
       "      <td>39.40</td>\n",
       "      <td>1012.16</td>\n",
       "      <td>92.14</td>\n",
       "      <td>488.56</td>\n",
       "    </tr>\n",
       "    <tr>\n",
       "      <th>3</th>\n",
       "      <td>20.86</td>\n",
       "      <td>57.32</td>\n",
       "      <td>1010.24</td>\n",
       "      <td>76.64</td>\n",
       "      <td>446.48</td>\n",
       "    </tr>\n",
       "    <tr>\n",
       "      <th>4</th>\n",
       "      <td>10.82</td>\n",
       "      <td>37.50</td>\n",
       "      <td>1009.23</td>\n",
       "      <td>96.62</td>\n",
       "      <td>473.90</td>\n",
       "    </tr>\n",
       "  </tbody>\n",
       "</table>\n",
       "</div>"
      ],
      "text/plain": [
       "      AT      V       AP     RH      PE\n",
       "0  14.96  41.76  1024.07  73.17  463.26\n",
       "1  25.18  62.96  1020.04  59.08  444.37\n",
       "2   5.11  39.40  1012.16  92.14  488.56\n",
       "3  20.86  57.32  1010.24  76.64  446.48\n",
       "4  10.82  37.50  1009.23  96.62  473.90"
      ]
     },
     "execution_count": 2,
     "metadata": {
      "tags": []
     },
     "output_type": "execute_result"
    }
   ],
   "source": [
    "# IMPORTING THE DATASET\n",
    "\n",
    "df=pd.read_excel(\"/content/Folds5x2_pp.xlsx\")\n",
    "df.head()"
   ]
  },
  {
   "cell_type": "code",
   "execution_count": 3,
   "metadata": {
    "colab": {
     "base_uri": "https://localhost:8080/"
    },
    "id": "KQCtm3zyYSoz",
    "outputId": "15d63e2c-abff-4523-c15b-dbaf390a689d"
   },
   "outputs": [
    {
     "data": {
      "text/plain": [
       "AT    0\n",
       "V     0\n",
       "AP    0\n",
       "RH    0\n",
       "PE    0\n",
       "dtype: int64"
      ]
     },
     "execution_count": 3,
     "metadata": {
      "tags": []
     },
     "output_type": "execute_result"
    }
   ],
   "source": [
    "df.isnull().sum()"
   ]
  },
  {
   "cell_type": "code",
   "execution_count": 4,
   "metadata": {
    "colab": {
     "base_uri": "https://localhost:8080/",
     "height": 202
    },
    "id": "aB10B7IdYScP",
    "outputId": "7b8e34d8-1ec1-4f3a-b85f-19e31279b678"
   },
   "outputs": [
    {
     "data": {
      "text/html": [
       "<div>\n",
       "<style scoped>\n",
       "    .dataframe tbody tr th:only-of-type {\n",
       "        vertical-align: middle;\n",
       "    }\n",
       "\n",
       "    .dataframe tbody tr th {\n",
       "        vertical-align: top;\n",
       "    }\n",
       "\n",
       "    .dataframe thead th {\n",
       "        text-align: right;\n",
       "    }\n",
       "</style>\n",
       "<table border=\"1\" class=\"dataframe\">\n",
       "  <thead>\n",
       "    <tr style=\"text-align: right;\">\n",
       "      <th></th>\n",
       "      <th>count</th>\n",
       "      <th>mean</th>\n",
       "      <th>std</th>\n",
       "      <th>min</th>\n",
       "      <th>25%</th>\n",
       "      <th>50%</th>\n",
       "      <th>75%</th>\n",
       "      <th>max</th>\n",
       "    </tr>\n",
       "  </thead>\n",
       "  <tbody>\n",
       "    <tr>\n",
       "      <th>AT</th>\n",
       "      <td>9568.0</td>\n",
       "      <td>19.651231</td>\n",
       "      <td>7.452473</td>\n",
       "      <td>1.81</td>\n",
       "      <td>13.5100</td>\n",
       "      <td>20.345</td>\n",
       "      <td>25.72</td>\n",
       "      <td>37.11</td>\n",
       "    </tr>\n",
       "    <tr>\n",
       "      <th>V</th>\n",
       "      <td>9568.0</td>\n",
       "      <td>54.305804</td>\n",
       "      <td>12.707893</td>\n",
       "      <td>25.36</td>\n",
       "      <td>41.7400</td>\n",
       "      <td>52.080</td>\n",
       "      <td>66.54</td>\n",
       "      <td>81.56</td>\n",
       "    </tr>\n",
       "    <tr>\n",
       "      <th>AP</th>\n",
       "      <td>9568.0</td>\n",
       "      <td>1013.259078</td>\n",
       "      <td>5.938784</td>\n",
       "      <td>992.89</td>\n",
       "      <td>1009.1000</td>\n",
       "      <td>1012.940</td>\n",
       "      <td>1017.26</td>\n",
       "      <td>1033.30</td>\n",
       "    </tr>\n",
       "    <tr>\n",
       "      <th>RH</th>\n",
       "      <td>9568.0</td>\n",
       "      <td>73.308978</td>\n",
       "      <td>14.600269</td>\n",
       "      <td>25.56</td>\n",
       "      <td>63.3275</td>\n",
       "      <td>74.975</td>\n",
       "      <td>84.83</td>\n",
       "      <td>100.16</td>\n",
       "    </tr>\n",
       "    <tr>\n",
       "      <th>PE</th>\n",
       "      <td>9568.0</td>\n",
       "      <td>454.365009</td>\n",
       "      <td>17.066995</td>\n",
       "      <td>420.26</td>\n",
       "      <td>439.7500</td>\n",
       "      <td>451.550</td>\n",
       "      <td>468.43</td>\n",
       "      <td>495.76</td>\n",
       "    </tr>\n",
       "  </tbody>\n",
       "</table>\n",
       "</div>"
      ],
      "text/plain": [
       "     count         mean        std  ...       50%      75%      max\n",
       "AT  9568.0    19.651231   7.452473  ...    20.345    25.72    37.11\n",
       "V   9568.0    54.305804  12.707893  ...    52.080    66.54    81.56\n",
       "AP  9568.0  1013.259078   5.938784  ...  1012.940  1017.26  1033.30\n",
       "RH  9568.0    73.308978  14.600269  ...    74.975    84.83   100.16\n",
       "PE  9568.0   454.365009  17.066995  ...   451.550   468.43   495.76\n",
       "\n",
       "[5 rows x 8 columns]"
      ]
     },
     "execution_count": 4,
     "metadata": {
      "tags": []
     },
     "output_type": "execute_result"
    }
   ],
   "source": [
    "df.describe().T"
   ]
  },
  {
   "cell_type": "code",
   "execution_count": 5,
   "metadata": {
    "colab": {
     "base_uri": "https://localhost:8080/"
    },
    "id": "ogDzEyrhYSCx",
    "outputId": "b211a9e6-cb33-42e7-f9df-634e219b2d68"
   },
   "outputs": [
    {
     "name": "stdout",
     "output_type": "stream",
     "text": [
      "<class 'pandas.core.frame.DataFrame'>\n",
      "RangeIndex: 9568 entries, 0 to 9567\n",
      "Data columns (total 5 columns):\n",
      " #   Column  Non-Null Count  Dtype  \n",
      "---  ------  --------------  -----  \n",
      " 0   AT      9568 non-null   float64\n",
      " 1   V       9568 non-null   float64\n",
      " 2   AP      9568 non-null   float64\n",
      " 3   RH      9568 non-null   float64\n",
      " 4   PE      9568 non-null   float64\n",
      "dtypes: float64(5)\n",
      "memory usage: 373.9 KB\n"
     ]
    }
   ],
   "source": [
    "df.info()"
   ]
  },
  {
   "cell_type": "code",
   "execution_count": 16,
   "metadata": {
    "colab": {
     "base_uri": "https://localhost:8080/",
     "height": 351
    },
    "id": "0qnqYuFjZQrb",
    "outputId": "f54490a7-8a18-4e99-d10e-f7c1b6cb0ca1"
   },
   "outputs": [
    {
     "name": "stderr",
     "output_type": "stream",
     "text": [
      "/usr/local/lib/python3.7/dist-packages/seaborn/categorical.py:1296: UserWarning: 79.3% of the points cannot be placed; you may want to decrease the size of the markers or use stripplot.\n",
      "  warnings.warn(msg, UserWarning)\n"
     ]
    },
    {
     "data": {
      "text/plain": [
       "<matplotlib.axes._subplots.AxesSubplot at 0x7f5ede9d6150>"
      ]
     },
     "execution_count": 16,
     "metadata": {
      "tags": []
     },
     "output_type": "execute_result"
    },
    {
     "data": {
      "image/png": "[encoded data removed]",
      "text/plain": [
       "<Figure size 432x288 with 1 Axes>"
      ]
     },
     "metadata": {
      "needs_background": "light",
      "tags": []
     },
     "output_type": "display_data"
    }
   ],
   "source": [
    "sns.boxplot(x=df['PE'])\n",
    "sns.swarmplot(x=df['PE'],color='k')"
   ]
  },
  {
   "cell_type": "code",
   "execution_count": 7,
   "metadata": {
    "id": "3ZeOkwOWLbYY"
   },
   "outputs": [],
   "source": [
    "# SPLITTING DATA INTO TRAIN AND TEST SET\n",
    "\n",
    "from sklearn.model_selection import train_test_split\n",
    "x_train, x_test, y_train, y_test = train_test_split(df.drop('PE', axis=1), df['PE'], test_size=0.2, random_state=42)"
   ]
  },
  {
   "cell_type": "code",
   "execution_count": 8,
   "metadata": {
    "id": "7a0332X0N8wC"
   },
   "outputs": [],
   "source": [
    "# FEATURE SCALING\n",
    "\n",
    "from sklearn.preprocessing import StandardScaler\n",
    "\n",
    "sc=StandardScaler()\n",
    "x_train = sc.fit_transform(x_train)\n",
    "x_test = sc.transform(x_test)"
   ]
  },
  {
   "cell_type": "markdown",
   "metadata": {},
   "source": [
    "# BUILDING THE MODEL"
   ]
  },
  {
   "cell_type": "code",
   "execution_count": 9,
   "metadata": {
    "id": "JRCLaoMILumk"
   },
   "outputs": [],
   "source": [
    "\n",
    "#INITIALISING THE MODEL\n",
    "model = tf.keras.models.Sequential([\n",
    "                                    \n",
    "                                    # FIRST HIDDEN LAYER\n",
    "                                    tf.keras.layers.Dense(units=6, activation='relu', input_shape=(4,)),\n",
    "\n",
    "                                    # SECOND HIDDEN LAYER\n",
    "                                    tf.keras.layers.Dense(units=6, activation='relu'),\n",
    "                                    \n",
    "                                    # OUTPUT LAYER \n",
    "                                    tf.keras.layers.Dense(units=1)\n",
    "])"
   ]
  },
  {
   "cell_type": "code",
   "execution_count": 10,
   "metadata": {
    "colab": {
     "base_uri": "https://localhost:8080/"
    },
    "id": "hEe4b8oDTenA",
    "outputId": "26f6fce5-bc20-4791-f70c-916cca771265"
   },
   "outputs": [
    {
     "name": "stdout",
     "output_type": "stream",
     "text": [
      "Model: \"sequential\"\n",
      "_________________________________________________________________\n",
      "Layer (type)                 Output Shape              Param #   \n",
      "=================================================================\n",
      "dense (Dense)                (None, 6)                 30        \n",
      "_________________________________________________________________\n",
      "dense_1 (Dense)              (None, 6)                 42        \n",
      "_________________________________________________________________\n",
      "dense_2 (Dense)              (None, 1)                 7         \n",
      "=================================================================\n",
      "Total params: 79\n",
      "Trainable params: 79\n",
      "Non-trainable params: 0\n",
      "_________________________________________________________________\n"
     ]
    }
   ],
   "source": [
    "model.summary()"
   ]
  },
  {
   "cell_type": "code",
   "execution_count": 11,
   "metadata": {
    "id": "--tQtouKL69I"
   },
   "outputs": [],
   "source": [
    "# COMPILING THE MODEL\n",
    "\n",
    "model.compile(optimizer='adam', loss='mean_squared_error')"
   ]
  },
  {
   "cell_type": "code",
   "execution_count": 12,
   "metadata": {
    "colab": {
     "base_uri": "https://localhost:8080/"
    },
    "id": "ORY3NryeMBXm",
    "outputId": "4f33af7c-b788-4919-86c2-fcbd9d0be3d9"
   },
   "outputs": [
    {
     "name": "stdout",
     "output_type": "stream",
     "text": [
      "Epoch 1/125\n",
      "120/120 [==============================] - 1s 1ms/step - loss: 206679.2432\n",
      "Epoch 2/125\n",
      "120/120 [==============================] - 0s 1ms/step - loss: 205198.9283\n",
      "Epoch 3/125\n",
      "120/120 [==============================] - 0s 1ms/step - loss: 201992.9237\n",
      "Epoch 4/125\n",
      "120/120 [==============================] - 0s 1ms/step - loss: 192473.0387\n",
      "Epoch 5/125\n",
      "120/120 [==============================] - 0s 1ms/step - loss: 174745.1497\n",
      "Epoch 6/125\n",
      "120/120 [==============================] - 0s 1ms/step - loss: 149323.0030\n",
      "Epoch 7/125\n",
      "120/120 [==============================] - 0s 1ms/step - loss: 118759.0735\n",
      "Epoch 8/125\n",
      "120/120 [==============================] - 0s 1ms/step - loss: 86951.0330\n",
      "Epoch 9/125\n",
      "120/120 [==============================] - 0s 1ms/step - loss: 59238.9638\n",
      "Epoch 10/125\n",
      "120/120 [==============================] - 0s 1ms/step - loss: 39495.9001\n",
      "Epoch 11/125\n",
      "120/120 [==============================] - 0s 1ms/step - loss: 26951.7105\n",
      "Epoch 12/125\n",
      "120/120 [==============================] - 0s 1ms/step - loss: 21201.0151\n",
      "Epoch 13/125\n",
      "120/120 [==============================] - 0s 1ms/step - loss: 17084.1041\n",
      "Epoch 14/125\n",
      "120/120 [==============================] - 0s 1ms/step - loss: 14799.7828\n",
      "Epoch 15/125\n",
      "120/120 [==============================] - 0s 1ms/step - loss: 13226.2266\n",
      "Epoch 16/125\n",
      "120/120 [==============================] - 0s 1ms/step - loss: 11483.1189\n",
      "Epoch 17/125\n",
      "120/120 [==============================] - 0s 1ms/step - loss: 9939.4888\n",
      "Epoch 18/125\n",
      "120/120 [==============================] - 0s 1ms/step - loss: 8613.2143\n",
      "Epoch 19/125\n",
      "120/120 [==============================] - 0s 1ms/step - loss: 7145.2851\n",
      "Epoch 20/125\n",
      "120/120 [==============================] - 0s 1ms/step - loss: 6128.9775\n",
      "Epoch 21/125\n",
      "120/120 [==============================] - 0s 1ms/step - loss: 5193.9046\n",
      "Epoch 22/125\n",
      "120/120 [==============================] - 0s 1ms/step - loss: 4312.0139\n",
      "Epoch 23/125\n",
      "120/120 [==============================] - 0s 1ms/step - loss: 3493.7890\n",
      "Epoch 24/125\n",
      "120/120 [==============================] - 0s 1ms/step - loss: 3007.7591\n",
      "Epoch 25/125\n",
      "120/120 [==============================] - 0s 1ms/step - loss: 2559.3311\n",
      "Epoch 26/125\n",
      "120/120 [==============================] - 0s 1ms/step - loss: 2139.8551\n",
      "Epoch 27/125\n",
      "120/120 [==============================] - 0s 1ms/step - loss: 1800.9063\n",
      "Epoch 28/125\n",
      "120/120 [==============================] - 0s 1ms/step - loss: 1601.2544\n",
      "Epoch 29/125\n",
      "120/120 [==============================] - 0s 1ms/step - loss: 1361.5540\n",
      "Epoch 30/125\n",
      "120/120 [==============================] - 0s 1ms/step - loss: 1160.9755\n",
      "Epoch 31/125\n",
      "120/120 [==============================] - 0s 1ms/step - loss: 1026.5385\n",
      "Epoch 32/125\n",
      "120/120 [==============================] - 0s 1ms/step - loss: 886.3778\n",
      "Epoch 33/125\n",
      "120/120 [==============================] - 0s 1ms/step - loss: 782.3054\n",
      "Epoch 34/125\n",
      "120/120 [==============================] - 0s 1ms/step - loss: 700.4894\n",
      "Epoch 35/125\n",
      "120/120 [==============================] - 0s 1ms/step - loss: 611.8751\n",
      "Epoch 36/125\n",
      "120/120 [==============================] - 0s 1ms/step - loss: 524.6688\n",
      "Epoch 37/125\n",
      "120/120 [==============================] - 0s 1ms/step - loss: 458.5441\n",
      "Epoch 38/125\n",
      "120/120 [==============================] - 0s 1ms/step - loss: 396.8921\n",
      "Epoch 39/125\n",
      "120/120 [==============================] - 0s 1ms/step - loss: 346.4707\n",
      "Epoch 40/125\n",
      "120/120 [==============================] - 0s 1ms/step - loss: 302.4787\n",
      "Epoch 41/125\n",
      "120/120 [==============================] - 0s 1ms/step - loss: 266.5249\n",
      "Epoch 42/125\n",
      "120/120 [==============================] - 0s 1ms/step - loss: 231.2886\n",
      "Epoch 43/125\n",
      "120/120 [==============================] - 0s 1ms/step - loss: 200.9793\n",
      "Epoch 44/125\n",
      "120/120 [==============================] - 0s 1ms/step - loss: 177.4186\n",
      "Epoch 45/125\n",
      "120/120 [==============================] - 0s 1ms/step - loss: 155.9459\n",
      "Epoch 46/125\n",
      "120/120 [==============================] - 0s 1ms/step - loss: 136.4211\n",
      "Epoch 47/125\n",
      "120/120 [==============================] - 0s 1ms/step - loss: 117.7175\n",
      "Epoch 48/125\n",
      "120/120 [==============================] - 0s 1ms/step - loss: 101.5499\n",
      "Epoch 49/125\n",
      "120/120 [==============================] - 0s 1ms/step - loss: 90.8232\n",
      "Epoch 50/125\n",
      "120/120 [==============================] - 0s 1ms/step - loss: 77.3213\n",
      "Epoch 51/125\n",
      "120/120 [==============================] - 0s 1ms/step - loss: 70.4367\n",
      "Epoch 52/125\n",
      "120/120 [==============================] - 0s 1ms/step - loss: 63.5814\n",
      "Epoch 53/125\n",
      "120/120 [==============================] - 0s 1ms/step - loss: 56.7184\n",
      "Epoch 54/125\n",
      "120/120 [==============================] - 0s 1ms/step - loss: 55.2029\n",
      "Epoch 55/125\n",
      "120/120 [==============================] - 0s 1ms/step - loss: 46.4186\n",
      "Epoch 56/125\n",
      "120/120 [==============================] - 0s 1ms/step - loss: 42.5636\n",
      "Epoch 57/125\n",
      "120/120 [==============================] - 0s 1ms/step - loss: 38.5307\n",
      "Epoch 58/125\n",
      "120/120 [==============================] - 0s 1ms/step - loss: 37.0013\n",
      "Epoch 59/125\n",
      "120/120 [==============================] - 0s 1ms/step - loss: 33.6659\n",
      "Epoch 60/125\n",
      "120/120 [==============================] - 0s 1ms/step - loss: 32.1983\n",
      "Epoch 61/125\n",
      "120/120 [==============================] - 0s 1ms/step - loss: 33.3197\n",
      "Epoch 62/125\n",
      "120/120 [==============================] - 0s 1ms/step - loss: 29.7494\n",
      "Epoch 63/125\n",
      "120/120 [==============================] - 0s 1ms/step - loss: 28.1570\n",
      "Epoch 64/125\n",
      "120/120 [==============================] - 0s 1ms/step - loss: 28.3174\n",
      "Epoch 65/125\n",
      "120/120 [==============================] - 0s 1ms/step - loss: 26.3117\n",
      "Epoch 66/125\n",
      "120/120 [==============================] - 0s 1ms/step - loss: 24.3201\n",
      "Epoch 67/125\n",
      "120/120 [==============================] - 0s 1ms/step - loss: 23.2815\n",
      "Epoch 68/125\n",
      "120/120 [==============================] - 0s 1ms/step - loss: 24.0107\n",
      "Epoch 69/125\n",
      "120/120 [==============================] - 0s 1ms/step - loss: 22.8124\n",
      "Epoch 70/125\n",
      "120/120 [==============================] - 0s 1ms/step - loss: 22.7901\n",
      "Epoch 71/125\n",
      "120/120 [==============================] - 0s 1ms/step - loss: 23.4079\n",
      "Epoch 72/125\n",
      "120/120 [==============================] - 0s 1ms/step - loss: 23.1795\n",
      "Epoch 73/125\n",
      "120/120 [==============================] - 0s 1ms/step - loss: 22.8091\n",
      "Epoch 74/125\n",
      "120/120 [==============================] - 0s 1ms/step - loss: 22.5216\n",
      "Epoch 75/125\n",
      "120/120 [==============================] - 0s 1ms/step - loss: 21.5542\n",
      "Epoch 76/125\n",
      "120/120 [==============================] - 0s 1ms/step - loss: 21.8771\n",
      "Epoch 77/125\n",
      "120/120 [==============================] - 0s 1ms/step - loss: 20.9695\n",
      "Epoch 78/125\n",
      "120/120 [==============================] - 0s 1ms/step - loss: 21.6056\n",
      "Epoch 79/125\n",
      "120/120 [==============================] - 0s 1ms/step - loss: 21.4167\n",
      "Epoch 80/125\n",
      "120/120 [==============================] - 0s 1ms/step - loss: 20.5866\n",
      "Epoch 81/125\n",
      "120/120 [==============================] - 0s 1ms/step - loss: 21.9641\n",
      "Epoch 82/125\n",
      "120/120 [==============================] - 0s 1ms/step - loss: 21.3640\n",
      "Epoch 83/125\n",
      "120/120 [==============================] - 0s 1ms/step - loss: 20.1712\n",
      "Epoch 84/125\n",
      "120/120 [==============================] - 0s 1ms/step - loss: 22.0793\n",
      "Epoch 85/125\n",
      "120/120 [==============================] - 0s 1ms/step - loss: 21.1170\n",
      "Epoch 86/125\n",
      "120/120 [==============================] - 0s 1ms/step - loss: 21.8756\n",
      "Epoch 87/125\n",
      "120/120 [==============================] - 0s 1ms/step - loss: 20.6673\n",
      "Epoch 88/125\n",
      "120/120 [==============================] - 0s 1ms/step - loss: 20.7990\n",
      "Epoch 89/125\n",
      "120/120 [==============================] - 0s 1ms/step - loss: 20.8959\n",
      "Epoch 90/125\n",
      "120/120 [==============================] - 0s 1ms/step - loss: 20.6724\n",
      "Epoch 91/125\n",
      "120/120 [==============================] - 0s 1ms/step - loss: 20.7741\n",
      "Epoch 92/125\n",
      "120/120 [==============================] - 0s 1ms/step - loss: 21.7256\n",
      "Epoch 93/125\n",
      "120/120 [==============================] - 0s 1ms/step - loss: 21.5244\n",
      "Epoch 94/125\n",
      "120/120 [==============================] - 0s 1ms/step - loss: 20.3157\n",
      "Epoch 95/125\n",
      "120/120 [==============================] - 0s 1ms/step - loss: 20.5567\n",
      "Epoch 96/125\n",
      "120/120 [==============================] - 0s 1ms/step - loss: 20.6881\n",
      "Epoch 97/125\n",
      "120/120 [==============================] - 0s 1ms/step - loss: 22.3988\n",
      "Epoch 98/125\n",
      "120/120 [==============================] - 0s 1ms/step - loss: 20.5801\n",
      "Epoch 99/125\n",
      "120/120 [==============================] - 0s 1ms/step - loss: 20.7246\n",
      "Epoch 100/125\n",
      "120/120 [==============================] - 0s 1ms/step - loss: 20.7778\n",
      "Epoch 101/125\n",
      "120/120 [==============================] - 0s 1ms/step - loss: 20.7906\n",
      "Epoch 102/125\n",
      "120/120 [==============================] - 0s 1ms/step - loss: 21.1171\n",
      "Epoch 103/125\n",
      "120/120 [==============================] - 0s 1ms/step - loss: 20.7847\n",
      "Epoch 104/125\n",
      "120/120 [==============================] - 0s 1ms/step - loss: 20.6225\n",
      "Epoch 105/125\n",
      "120/120 [==============================] - 0s 1ms/step - loss: 20.3807\n",
      "Epoch 106/125\n",
      "120/120 [==============================] - 0s 1ms/step - loss: 21.1871\n",
      "Epoch 107/125\n",
      "120/120 [==============================] - 0s 1ms/step - loss: 19.5933\n",
      "Epoch 108/125\n",
      "120/120 [==============================] - 0s 1ms/step - loss: 21.5701\n",
      "Epoch 109/125\n",
      "120/120 [==============================] - 0s 1ms/step - loss: 21.0432\n",
      "Epoch 110/125\n",
      "120/120 [==============================] - 0s 1ms/step - loss: 20.7192\n",
      "Epoch 111/125\n",
      "120/120 [==============================] - 0s 1ms/step - loss: 20.3863\n",
      "Epoch 112/125\n",
      "120/120 [==============================] - 0s 1ms/step - loss: 20.9172\n",
      "Epoch 113/125\n",
      "120/120 [==============================] - 0s 2ms/step - loss: 21.0848\n",
      "Epoch 114/125\n",
      "120/120 [==============================] - 0s 1ms/step - loss: 20.1876\n",
      "Epoch 115/125\n",
      "120/120 [==============================] - 0s 1ms/step - loss: 21.0624\n",
      "Epoch 116/125\n",
      "120/120 [==============================] - 0s 1ms/step - loss: 21.3106\n",
      "Epoch 117/125\n",
      "120/120 [==============================] - 0s 1ms/step - loss: 20.2721\n",
      "Epoch 118/125\n",
      "120/120 [==============================] - 0s 1ms/step - loss: 20.0105\n",
      "Epoch 119/125\n",
      "120/120 [==============================] - 0s 1ms/step - loss: 20.6286\n",
      "Epoch 120/125\n",
      "120/120 [==============================] - 0s 1ms/step - loss: 20.2712\n",
      "Epoch 121/125\n",
      "120/120 [==============================] - 0s 1ms/step - loss: 20.2215\n",
      "Epoch 122/125\n",
      "120/120 [==============================] - 0s 1ms/step - loss: 21.5358\n",
      "Epoch 123/125\n",
      "120/120 [==============================] - 0s 1ms/step - loss: 20.4727\n",
      "Epoch 124/125\n",
      "120/120 [==============================] - 0s 1ms/step - loss: 21.7133\n",
      "Epoch 125/125\n",
      "120/120 [==============================] - 0s 1ms/step - loss: 20.1718\n"
     ]
    },
    {
     "data": {
      "text/plain": [
       "<tensorflow.python.keras.callbacks.History at 0x7f5ee10b6310>"
      ]
     },
     "execution_count": 12,
     "metadata": {
      "tags": []
     },
     "output_type": "execute_result"
    }
   ],
   "source": [
    "# TRAINING THE MODEL ON TRAIN SET\n",
    "\n",
    "model.fit(x_train, y_train, batch_size=64 ,epochs=125)"
   ]
  },
  {
   "cell_type": "code",
   "execution_count": 13,
   "metadata": {
    "colab": {
     "base_uri": "https://localhost:8080/"
    },
    "id": "ibBhKZhiMHGg",
    "outputId": "4471cbe4-9b87-4863-b5b4-73730ffb7484"
   },
   "outputs": [
    {
     "name": "stdout",
     "output_type": "stream",
     "text": [
      "60/60 [==============================] - 0s 974us/step - loss: 20.1853\n"
     ]
    },
    {
     "data": {
      "text/plain": [
       "20.1853084564209"
      ]
     },
     "execution_count": 13,
     "metadata": {
      "tags": []
     },
     "output_type": "execute_result"
    }
   ],
   "source": [
    "model.evaluate(x_test, y_test)"
   ]
  },
  {
   "cell_type": "code",
   "execution_count": 14,
   "metadata": {
    "id": "5BHX574qMSyd"
   },
   "outputs": [],
   "source": [
    "y_pred=model.predict(x_test)"
   ]
  },
  {
   "cell_type": "code",
   "execution_count": 15,
   "metadata": {
    "colab": {
     "base_uri": "https://localhost:8080/"
    },
    "id": "eqOaRn_kMoJK",
    "outputId": "fec53913-ca42-4770-b0a6-e2799fb720e0"
   },
   "outputs": [
    {
     "data": {
      "text/plain": [
       "(4.492805760827357, 0.9304094181077415)"
      ]
     },
     "execution_count": 15,
     "metadata": {
      "tags": []
     },
     "output_type": "execute_result"
    }
   ],
   "source": [
    "# EVALUATING THE MODEL\n",
    "\n",
    "from sklearn.metrics import mean_squared_error, r2_score\n",
    "from math import sqrt as r\n",
    "\n",
    "r(mean_squared_error(y_test,y_pred)), r2_score(y_test, y_pred)"
   ]
  },
  {
   "cell_type": "code",
   "execution_count": 15,
   "metadata": {
    "id": "zRPLhYAtQ7YA"
   },
   "outputs": [],
   "source": []
  }
 ],
 "metadata": {
  "colab": {
   "collapsed_sections": [],
   "name": " ANN ( REGRESSION ).ipynb",
   "provenance": []
  },
  "kernelspec": {
   "display_name": "Python 3",
   "language": "python",
   "name": "python3"
  },
  "language_info": {
   "codemirror_mode": {
    "name": "ipython",
    "version": 3
   },
   "file_extension": ".py",
   "mimetype": "text/x-python",
   "name": "python",
   "nbconvert_exporter": "python",
   "pygments_lexer": "ipython3",
   "version": "3.7.6"
  }
 },
 "nbformat": 4,
 "nbformat_minor": 1
}
