{
  "nbformat": 4,
  "nbformat_minor": 0,
  "metadata": {
    "accelerator": "GPU",
    "colab": {
      "name": "CIFAR10 dataset image classification using CNN.ipynb",
      "provenance": []
    },
    "kernelspec": {
      "display_name": "Python 3",
      "name": "python3"
    },
    "language_info": {
      "name": "python"
    }
  },
  "cells": [
    {
      "cell_type": "code",
      "metadata": {
        "id": "1tMEBS9x8ox7"
      },
      "source": [
        "import pandas as pd\n",
        "import numpy as np\n",
        "import matplotlib.pyplot as plt\n",
        "from keras import layers, models\n",
        "import tensorflow as tf\n",
        "from keras.datasets import cifar10"
      ],
      "execution_count": 1,
      "outputs": []
    },
    {
      "cell_type": "code",
      "metadata": {
        "colab": {
          "base_uri": "https://localhost:8080/"
        },
        "id": "EAZ_BOicBcsp",
        "outputId": "d3cb1dcf-409f-4b1e-ed7e-9005dca0dc28"
      },
      "source": [
        "(x_train, y_train), (x_test, y_test) = cifar10.load_data()\n",
        "x_train.shape, x_test.shape"
      ],
      "execution_count": 2,
      "outputs": [
        {
          "output_type": "execute_result",
          "data": {
            "text/plain": [
              "((50000, 32, 32, 3), (10000, 32, 32, 3))"
            ]
          },
          "metadata": {
            "tags": []
          },
          "execution_count": 2
        }
      ]
    },
    {
      "cell_type": "code",
      "metadata": {
        "colab": {
          "base_uri": "https://localhost:8080/"
        },
        "id": "zUGuQ2HNW1Nw",
        "outputId": "b7bf4217-1991-40fc-df37-9bdc59211a99"
      },
      "source": [
        "x_train[0]"
      ],
      "execution_count": 3,
      "outputs": [
        {
          "output_type": "execute_result",
          "data": {
            "text/plain": [
              "array([[[ 59,  62,  63],\n",
              "        [ 43,  46,  45],\n",
              "        [ 50,  48,  43],\n",
              "        ...,\n",
              "        [158, 132, 108],\n",
              "        [152, 125, 102],\n",
              "        [148, 124, 103]],\n",
              "\n",
              "       [[ 16,  20,  20],\n",
              "        [  0,   0,   0],\n",
              "        [ 18,   8,   0],\n",
              "        ...,\n",
              "        [123,  88,  55],\n",
              "        [119,  83,  50],\n",
              "        [122,  87,  57]],\n",
              "\n",
              "       [[ 25,  24,  21],\n",
              "        [ 16,   7,   0],\n",
              "        [ 49,  27,   8],\n",
              "        ...,\n",
              "        [118,  84,  50],\n",
              "        [120,  84,  50],\n",
              "        [109,  73,  42]],\n",
              "\n",
              "       ...,\n",
              "\n",
              "       [[208, 170,  96],\n",
              "        [201, 153,  34],\n",
              "        [198, 161,  26],\n",
              "        ...,\n",
              "        [160, 133,  70],\n",
              "        [ 56,  31,   7],\n",
              "        [ 53,  34,  20]],\n",
              "\n",
              "       [[180, 139,  96],\n",
              "        [173, 123,  42],\n",
              "        [186, 144,  30],\n",
              "        ...,\n",
              "        [184, 148,  94],\n",
              "        [ 97,  62,  34],\n",
              "        [ 83,  53,  34]],\n",
              "\n",
              "       [[177, 144, 116],\n",
              "        [168, 129,  94],\n",
              "        [179, 142,  87],\n",
              "        ...,\n",
              "        [216, 184, 140],\n",
              "        [151, 118,  84],\n",
              "        [123,  92,  72]]], dtype=uint8)"
            ]
          },
          "metadata": {
            "tags": []
          },
          "execution_count": 3
        }
      ]
    },
    {
      "cell_type": "code",
      "metadata": {
        "id": "z7T94b28EP6N"
      },
      "source": [
        "x_train = x_train / 255\n",
        "x_test = x_test / 255"
      ],
      "execution_count": 4,
      "outputs": []
    },
    {
      "cell_type": "code",
      "metadata": {
        "colab": {
          "base_uri": "https://localhost:8080/"
        },
        "id": "xtHbL_4eW_Go",
        "outputId": "06b13a66-8394-4e04-e74d-ffa716f05921"
      },
      "source": [
        "x_train[0]"
      ],
      "execution_count": 5,
      "outputs": [
        {
          "output_type": "execute_result",
          "data": {
            "text/plain": [
              "array([[[0.23137255, 0.24313725, 0.24705882],\n",
              "        [0.16862745, 0.18039216, 0.17647059],\n",
              "        [0.19607843, 0.18823529, 0.16862745],\n",
              "        ...,\n",
              "        [0.61960784, 0.51764706, 0.42352941],\n",
              "        [0.59607843, 0.49019608, 0.4       ],\n",
              "        [0.58039216, 0.48627451, 0.40392157]],\n",
              "\n",
              "       [[0.0627451 , 0.07843137, 0.07843137],\n",
              "        [0.        , 0.        , 0.        ],\n",
              "        [0.07058824, 0.03137255, 0.        ],\n",
              "        ...,\n",
              "        [0.48235294, 0.34509804, 0.21568627],\n",
              "        [0.46666667, 0.3254902 , 0.19607843],\n",
              "        [0.47843137, 0.34117647, 0.22352941]],\n",
              "\n",
              "       [[0.09803922, 0.09411765, 0.08235294],\n",
              "        [0.0627451 , 0.02745098, 0.        ],\n",
              "        [0.19215686, 0.10588235, 0.03137255],\n",
              "        ...,\n",
              "        [0.4627451 , 0.32941176, 0.19607843],\n",
              "        [0.47058824, 0.32941176, 0.19607843],\n",
              "        [0.42745098, 0.28627451, 0.16470588]],\n",
              "\n",
              "       ...,\n",
              "\n",
              "       [[0.81568627, 0.66666667, 0.37647059],\n",
              "        [0.78823529, 0.6       , 0.13333333],\n",
              "        [0.77647059, 0.63137255, 0.10196078],\n",
              "        ...,\n",
              "        [0.62745098, 0.52156863, 0.2745098 ],\n",
              "        [0.21960784, 0.12156863, 0.02745098],\n",
              "        [0.20784314, 0.13333333, 0.07843137]],\n",
              "\n",
              "       [[0.70588235, 0.54509804, 0.37647059],\n",
              "        [0.67843137, 0.48235294, 0.16470588],\n",
              "        [0.72941176, 0.56470588, 0.11764706],\n",
              "        ...,\n",
              "        [0.72156863, 0.58039216, 0.36862745],\n",
              "        [0.38039216, 0.24313725, 0.13333333],\n",
              "        [0.3254902 , 0.20784314, 0.13333333]],\n",
              "\n",
              "       [[0.69411765, 0.56470588, 0.45490196],\n",
              "        [0.65882353, 0.50588235, 0.36862745],\n",
              "        [0.70196078, 0.55686275, 0.34117647],\n",
              "        ...,\n",
              "        [0.84705882, 0.72156863, 0.54901961],\n",
              "        [0.59215686, 0.4627451 , 0.32941176],\n",
              "        [0.48235294, 0.36078431, 0.28235294]]])"
            ]
          },
          "metadata": {
            "tags": []
          },
          "execution_count": 5
        }
      ]
    },
    {
      "cell_type": "code",
      "metadata": {
        "colab": {
          "base_uri": "https://localhost:8080/"
        },
        "id": "4IHmxJJjXAsy",
        "outputId": "16a5a27c-2d7c-4ac2-f896-3a76d892b214"
      },
      "source": [
        "y_train[:5]"
      ],
      "execution_count": 6,
      "outputs": [
        {
          "output_type": "execute_result",
          "data": {
            "text/plain": [
              "array([[6],\n",
              "       [9],\n",
              "       [9],\n",
              "       [4],\n",
              "       [1]], dtype=uint8)"
            ]
          },
          "metadata": {
            "tags": []
          },
          "execution_count": 6
        }
      ]
    },
    {
      "cell_type": "code",
      "metadata": {
        "id": "JcXI4oPgXHx9"
      },
      "source": [
        "y_train = y_train.reshape(-1, )\n",
        "y_test =y_test.reshape(-1, )"
      ],
      "execution_count": 7,
      "outputs": []
    },
    {
      "cell_type": "code",
      "metadata": {
        "colab": {
          "base_uri": "https://localhost:8080/"
        },
        "id": "8vw9ofmUXQWF",
        "outputId": "2dd5c3d6-dff4-48b4-e67a-e0646a167f86"
      },
      "source": [
        "y_train[:5]"
      ],
      "execution_count": 8,
      "outputs": [
        {
          "output_type": "execute_result",
          "data": {
            "text/plain": [
              "array([6, 9, 9, 4, 1], dtype=uint8)"
            ]
          },
          "metadata": {
            "tags": []
          },
          "execution_count": 8
        }
      ]
    },
    {
      "cell_type": "code",
      "metadata": {
        "colab": {
          "base_uri": "https://localhost:8080/",
          "height": 1000
        },
        "id": "seAowACtBked",
        "outputId": "44e7d919-3c89-478b-8afb-40afa8669063"
      },
      "source": [
        "for i in range(10):\n",
        "  plt.axis('off')\n",
        "  plt.imshow(x_train[i])\n",
        "  plt.show()"
      ],
      "execution_count": 9,
      "outputs": [
        {
          "output_type": "display_data",
          "data": {
            "image/png": "[encoded data removed]",
            "text/plain": [
              "<Figure size 432x288 with 1 Axes>"
            ]
          },
          "metadata": {
            "tags": [],
            "needs_background": "light"
          }
        },
        {
          "output_type": "display_data",
          "data": {
            "image/png": "[encoded data removed]",
            "text/plain": [
              "<Figure size 432x288 with 1 Axes>"
            ]
          },
          "metadata": {
            "tags": [],
            "needs_background": "light"
          }
        },
        {
          "output_type": "display_data",
          "data": {
            "image/png": "[encoded data removed]",
            "text/plain": [
              "<Figure size 432x288 with 1 Axes>"
            ]
          },
          "metadata": {
            "tags": [],
            "needs_background": "light"
          }
        },
        {
          "output_type": "display_data",
          "data": {
            "image/png": "[encoded data removed]",
            "text/plain": [
              "<Figure size 432x288 with 1 Axes>"
            ]
          },
          "metadata": {
            "tags": [],
            "needs_background": "light"
          }
        },
        {
          "output_type": "display_data",
          "data": {
            "image/png": "[encoded data removed]",
            "text/plain": [
              "<Figure size 432x288 with 1 Axes>"
            ]
          },
          "metadata": {
            "tags": [],
            "needs_background": "light"
          }
        },
        {
          "output_type": "display_data",
          "data": {
            "image/png": "[encoded data removed]",
            "text/plain": [
              "<Figure size 432x288 with 1 Axes>"
            ]
          },
          "metadata": {
            "tags": [],
            "needs_background": "light"
          }
        },
        {
          "output_type": "display_data",
          "data": {
            "image/png": "[encoded data removed]",
            "text/plain": [
              "<Figure size 432x288 with 1 Axes>"
            ]
          },
          "metadata": {
            "tags": [],
            "needs_background": "light"
          }
        },
        {
          "output_type": "display_data",
          "data": {
            "image/png": "[encoded data removed]",
            "text/plain": [
              "<Figure size 432x288 with 1 Axes>"
            ]
          },
          "metadata": {
            "tags": [],
            "needs_background": "light"
          }
        },
        {
          "output_type": "display_data",
          "data": {
            "image/png": "[encoded data removed]",
            "text/plain": [
              "<Figure size 432x288 with 1 Axes>"
            ]
          },
          "metadata": {
            "tags": [],
            "needs_background": "light"
          }
        },
        {
          "output_type": "display_data",
          "data": {
            "image/png": "[encoded data removed]",
            "text/plain": [
              "<Figure size 432x288 with 1 Axes>"
            ]
          },
          "metadata": {
            "tags": [],
            "needs_background": "light"
          }
        }
      ]
    },
    {
      "cell_type": "code",
      "metadata": {
        "colab": {
          "base_uri": "https://localhost:8080/"
        },
        "id": "O9ZBZvHbBoQr",
        "outputId": "c05879f5-8cda-4039-9ae6-cc8879d311e1"
      },
      "source": [
        "model = models.Sequential([\n",
        "                         \n",
        "                         layers.Conv2D(filters=32, kernel_size=3, activation='relu', input_shape=(32, 32, 3), padding='same'),\n",
        "                         layers.BatchNormalization(),\n",
        "                         layers.Conv2D(filters=32, kernel_size=3, activation='relu', padding='same'),\n",
        "                         layers.BatchNormalization(),\n",
        "                         layers.MaxPool2D(pool_size=2, strides=2),\n",
        "                         layers.Dropout(0.3),\n",
        "                         \n",
        "\n",
        "                         layers.Conv2D(filters=64, kernel_size=3, activation='relu', padding='same'),\n",
        "                         layers.BatchNormalization(),\n",
        "                         layers.Conv2D(filters=64, kernel_size=3, activation='relu', padding='same'),\n",
        "                         layers.BatchNormalization(),\n",
        "                         layers.MaxPool2D(pool_size=2, strides=2),\n",
        "                         layers.Dropout(0.4),\n",
        "                         \n",
        "\n",
        "                         layers.Conv2D(filters=64, kernel_size=3, activation='relu', padding='same'),\n",
        "                         layers.BatchNormalization(),\n",
        "                         layers.Conv2D(filters=64, kernel_size=3, activation='relu', padding='same'),\n",
        "                         layers.BatchNormalization(),\n",
        "                         layers.MaxPool2D(pool_size=2, strides=2),\n",
        "                         layers.Dropout(0.5),\n",
        "                         \n",
        "                         layers.Flatten(),\n",
        "\n",
        "                         layers.Dense(units=512, activation='relu'),\n",
        "                         layers.Dense(units=256, activation='relu'),\n",
        "                         layers.Dense(units=10, activation='softmax'),\n",
        "\n",
        "])\n",
        "\n",
        "model.summary()"
      ],
      "execution_count": 10,
      "outputs": [
        {
          "output_type": "stream",
          "text": [
            "Model: \"sequential\"\n",
            "_________________________________________________________________\n",
            "Layer (type)                 Output Shape              Param #   \n",
            "=================================================================\n",
            "conv2d (Conv2D)              (None, 32, 32, 32)        896       \n",
            "_________________________________________________________________\n",
            "batch_normalization (BatchNo (None, 32, 32, 32)        128       \n",
            "_________________________________________________________________\n",
            "conv2d_1 (Conv2D)            (None, 32, 32, 32)        9248      \n",
            "_________________________________________________________________\n",
            "batch_normalization_1 (Batch (None, 32, 32, 32)        128       \n",
            "_________________________________________________________________\n",
            "max_pooling2d (MaxPooling2D) (None, 16, 16, 32)        0         \n",
            "_________________________________________________________________\n",
            "dropout (Dropout)            (None, 16, 16, 32)        0         \n",
            "_________________________________________________________________\n",
            "conv2d_2 (Conv2D)            (None, 16, 16, 64)        18496     \n",
            "_________________________________________________________________\n",
            "batch_normalization_2 (Batch (None, 16, 16, 64)        256       \n",
            "_________________________________________________________________\n",
            "conv2d_3 (Conv2D)            (None, 16, 16, 64)        36928     \n",
            "_________________________________________________________________\n",
            "batch_normalization_3 (Batch (None, 16, 16, 64)        256       \n",
            "_________________________________________________________________\n",
            "max_pooling2d_1 (MaxPooling2 (None, 8, 8, 64)          0         \n",
            "_________________________________________________________________\n",
            "dropout_1 (Dropout)          (None, 8, 8, 64)          0         \n",
            "_________________________________________________________________\n",
            "conv2d_4 (Conv2D)            (None, 8, 8, 64)          36928     \n",
            "_________________________________________________________________\n",
            "batch_normalization_4 (Batch (None, 8, 8, 64)          256       \n",
            "_________________________________________________________________\n",
            "conv2d_5 (Conv2D)            (None, 8, 8, 64)          36928     \n",
            "_________________________________________________________________\n",
            "batch_normalization_5 (Batch (None, 8, 8, 64)          256       \n",
            "_________________________________________________________________\n",
            "max_pooling2d_2 (MaxPooling2 (None, 4, 4, 64)          0         \n",
            "_________________________________________________________________\n",
            "dropout_2 (Dropout)          (None, 4, 4, 64)          0         \n",
            "_________________________________________________________________\n",
            "flatten (Flatten)            (None, 1024)              0         \n",
            "_________________________________________________________________\n",
            "dense (Dense)                (None, 512)               524800    \n",
            "_________________________________________________________________\n",
            "dense_1 (Dense)              (None, 256)               131328    \n",
            "_________________________________________________________________\n",
            "dense_2 (Dense)              (None, 10)                2570      \n",
            "=================================================================\n",
            "Total params: 799,402\n",
            "Trainable params: 798,762\n",
            "Non-trainable params: 640\n",
            "_________________________________________________________________\n"
          ],
          "name": "stdout"
        }
      ]
    },
    {
      "cell_type": "code",
      "metadata": {
        "colab": {
          "base_uri": "https://localhost:8080/"
        },
        "id": "Nk8HcDIZB0qJ",
        "outputId": "92e0ff80-e680-457d-a139-1c1e01a38682"
      },
      "source": [
        "model.compile(optimizer='adam', loss='sparse_categorical_crossentropy', metrics=['acc'])\n",
        "\n",
        "from keras.callbacks import EarlyStopping, ModelCheckpoint, ReduceLROnPlateau\n",
        "\n",
        "early = EarlyStopping(monitor='val_loss',\n",
        "                      patience=4,\n",
        "                      verbose=1,\n",
        "                      restore_best_weights=True)\n",
        "filepath='model.h5'\n",
        "check = ModelCheckpoint(filepath,\n",
        "                        monitor='val_loss',\n",
        "                        verbose=1,\n",
        "                        save_best_only=True)\n",
        "\n",
        "reduce_lr = ReduceLROnPlateau(monitor='val_loss',\n",
        "                              patience=3,\n",
        "                              factor=0.2,\n",
        "                              min_delta=0.00001,\n",
        "                              verbose=1)\n",
        "\n",
        "callback = [early, check, reduce_lr]\n",
        "\n",
        "bs = 128\n",
        "training_sample = len(x_train)\n",
        "validation_sample = len(x_test)\n",
        "\n",
        "model_history = model.fit(x_train, y_train, \n",
        "                          batch_size= bs, \n",
        "                          validation_data=(x_test, y_test), \n",
        "                          epochs=100, \n",
        "                          callbacks=callback,\n",
        "                          steps_per_epoch=training_sample // bs, \n",
        "                          validation_steps= validation_sample // bs\n",
        "                          )"
      ],
      "execution_count": 11,
      "outputs": [
        {
          "output_type": "stream",
          "text": [
            "Epoch 1/100\n",
            "390/390 [==============================] - 26s 18ms/step - loss: 1.8409 - acc: 0.3569 - val_loss: 2.4786 - val_acc: 0.2718\n",
            "\n",
            "Epoch 00001: val_loss improved from inf to 2.47861, saving model to model.h5\n",
            "Epoch 2/100\n",
            "390/390 [==============================] - 6s 16ms/step - loss: 1.1625 - acc: 0.5810 - val_loss: 0.9206 - val_acc: 0.6686\n",
            "\n",
            "Epoch 00002: val_loss improved from 2.47861 to 0.92061, saving model to model.h5\n",
            "Epoch 3/100\n",
            "390/390 [==============================] - 6s 16ms/step - loss: 0.9445 - acc: 0.6606 - val_loss: 0.9515 - val_acc: 0.6713\n",
            "\n",
            "Epoch 00003: val_loss did not improve from 0.92061\n",
            "Epoch 4/100\n",
            "390/390 [==============================] - 6s 16ms/step - loss: 0.8287 - acc: 0.7022 - val_loss: 0.7909 - val_acc: 0.7254\n",
            "\n",
            "Epoch 00004: val_loss improved from 0.92061 to 0.79095, saving model to model.h5\n",
            "Epoch 5/100\n",
            "390/390 [==============================] - 6s 15ms/step - loss: 0.7431 - acc: 0.7362 - val_loss: 0.7058 - val_acc: 0.7535\n",
            "\n",
            "Epoch 00005: val_loss improved from 0.79095 to 0.70582, saving model to model.h5\n",
            "Epoch 6/100\n",
            "390/390 [==============================] - 6s 16ms/step - loss: 0.6891 - acc: 0.7557 - val_loss: 0.6597 - val_acc: 0.7751\n",
            "\n",
            "Epoch 00006: val_loss improved from 0.70582 to 0.65975, saving model to model.h5\n",
            "Epoch 7/100\n",
            "390/390 [==============================] - 6s 15ms/step - loss: 0.6335 - acc: 0.7768 - val_loss: 0.6732 - val_acc: 0.7679\n",
            "\n",
            "Epoch 00007: val_loss did not improve from 0.65975\n",
            "Epoch 8/100\n",
            "390/390 [==============================] - 6s 16ms/step - loss: 0.6075 - acc: 0.7841 - val_loss: 0.6154 - val_acc: 0.7900\n",
            "\n",
            "Epoch 00008: val_loss improved from 0.65975 to 0.61542, saving model to model.h5\n",
            "Epoch 9/100\n",
            "390/390 [==============================] - 6s 16ms/step - loss: 0.5496 - acc: 0.8037 - val_loss: 0.6535 - val_acc: 0.7729\n",
            "\n",
            "Epoch 00009: val_loss did not improve from 0.61542\n",
            "Epoch 10/100\n",
            "390/390 [==============================] - 6s 15ms/step - loss: 0.5314 - acc: 0.8113 - val_loss: 0.6093 - val_acc: 0.7962\n",
            "\n",
            "Epoch 00010: val_loss improved from 0.61542 to 0.60930, saving model to model.h5\n",
            "Epoch 11/100\n",
            "390/390 [==============================] - 6s 15ms/step - loss: 0.5026 - acc: 0.8201 - val_loss: 0.6060 - val_acc: 0.7933\n",
            "\n",
            "Epoch 00011: val_loss improved from 0.60930 to 0.60601, saving model to model.h5\n",
            "Epoch 12/100\n",
            "390/390 [==============================] - 6s 15ms/step - loss: 0.4845 - acc: 0.8269 - val_loss: 0.5865 - val_acc: 0.8029\n",
            "\n",
            "Epoch 00012: val_loss improved from 0.60601 to 0.58650, saving model to model.h5\n",
            "Epoch 13/100\n",
            "390/390 [==============================] - 6s 15ms/step - loss: 0.4554 - acc: 0.8385 - val_loss: 0.5706 - val_acc: 0.8127\n",
            "\n",
            "Epoch 00013: val_loss improved from 0.58650 to 0.57064, saving model to model.h5\n",
            "Epoch 14/100\n",
            "390/390 [==============================] - 6s 15ms/step - loss: 0.4378 - acc: 0.8428 - val_loss: 0.5393 - val_acc: 0.8228\n",
            "\n",
            "Epoch 00014: val_loss improved from 0.57064 to 0.53934, saving model to model.h5\n",
            "Epoch 15/100\n",
            "390/390 [==============================] - 6s 15ms/step - loss: 0.4235 - acc: 0.8522 - val_loss: 0.5304 - val_acc: 0.8222\n",
            "\n",
            "Epoch 00015: val_loss improved from 0.53934 to 0.53041, saving model to model.h5\n",
            "Epoch 16/100\n",
            "390/390 [==============================] - 6s 15ms/step - loss: 0.4046 - acc: 0.8569 - val_loss: 0.5532 - val_acc: 0.8217\n",
            "\n",
            "Epoch 00016: val_loss did not improve from 0.53041\n",
            "Epoch 17/100\n",
            "390/390 [==============================] - 6s 15ms/step - loss: 0.3856 - acc: 0.8612 - val_loss: 0.6272 - val_acc: 0.7964\n",
            "\n",
            "Epoch 00017: val_loss did not improve from 0.53041\n",
            "Epoch 18/100\n",
            "390/390 [==============================] - 6s 15ms/step - loss: 0.3702 - acc: 0.8678 - val_loss: 0.5577 - val_acc: 0.8176\n",
            "\n",
            "Epoch 00018: val_loss did not improve from 0.53041\n",
            "\n",
            "Epoch 00018: ReduceLROnPlateau reducing learning rate to 0.00020000000949949026.\n",
            "Epoch 19/100\n",
            "390/390 [==============================] - 6s 16ms/step - loss: 0.3212 - acc: 0.8865 - val_loss: 0.4865 - val_acc: 0.8457\n",
            "\n",
            "Epoch 00019: val_loss improved from 0.53041 to 0.48652, saving model to model.h5\n",
            "Epoch 20/100\n",
            "390/390 [==============================] - 6s 16ms/step - loss: 0.2753 - acc: 0.9007 - val_loss: 0.4892 - val_acc: 0.8473\n",
            "\n",
            "Epoch 00020: val_loss did not improve from 0.48652\n",
            "Epoch 21/100\n",
            "390/390 [==============================] - 6s 16ms/step - loss: 0.2700 - acc: 0.9029 - val_loss: 0.4937 - val_acc: 0.8470\n",
            "\n",
            "Epoch 00021: val_loss did not improve from 0.48652\n",
            "Epoch 22/100\n",
            "390/390 [==============================] - 6s 16ms/step - loss: 0.2539 - acc: 0.9078 - val_loss: 0.4953 - val_acc: 0.8504\n",
            "\n",
            "Epoch 00022: val_loss did not improve from 0.48652\n",
            "\n",
            "Epoch 00022: ReduceLROnPlateau reducing learning rate to 4.0000001899898055e-05.\n",
            "Epoch 23/100\n",
            "390/390 [==============================] - 6s 15ms/step - loss: 0.2442 - acc: 0.9109 - val_loss: 0.4873 - val_acc: 0.8530\n",
            "Restoring model weights from the end of the best epoch.\n",
            "\n",
            "Epoch 00023: val_loss did not improve from 0.48652\n",
            "Epoch 00023: early stopping\n"
          ],
          "name": "stdout"
        }
      ]
    },
    {
      "cell_type": "code",
      "metadata": {
        "colab": {
          "base_uri": "https://localhost:8080/"
        },
        "id": "B_hpdI7zDN4B",
        "outputId": "bd248b54-ae92-4487-a4fe-dfdc6b8f7d99"
      },
      "source": [
        "model.evaluate(x_test, y_test)"
      ],
      "execution_count": 12,
      "outputs": [
        {
          "output_type": "stream",
          "text": [
            "313/313 [==============================] - 1s 3ms/step - loss: 0.4866 - acc: 0.8456\n"
          ],
          "name": "stdout"
        },
        {
          "output_type": "execute_result",
          "data": {
            "text/plain": [
              "[0.4865932762622833, 0.8456000089645386]"
            ]
          },
          "metadata": {
            "tags": []
          },
          "execution_count": 12
        }
      ]
    },
    {
      "cell_type": "code",
      "metadata": {
        "colab": {
          "base_uri": "https://localhost:8080/",
          "height": 206
        },
        "id": "gUEgO95_Dzt4",
        "outputId": "2bfef649-6eb7-43d8-ea5a-1d5dbb637e64"
      },
      "source": [
        "History = pd.DataFrame(model_history.history)\n",
        "History.head()"
      ],
      "execution_count": 13,
      "outputs": [
        {
          "output_type": "execute_result",
          "data": {
            "text/html": [
              "<div>\n",
              "<style scoped>\n",
              "    .dataframe tbody tr th:only-of-type {\n",
              "        vertical-align: middle;\n",
              "    }\n",
              "\n",
              "    .dataframe tbody tr th {\n",
              "        vertical-align: top;\n",
              "    }\n",
              "\n",
              "    .dataframe thead th {\n",
              "        text-align: right;\n",
              "    }\n",
              "</style>\n",
              "<table border=\"1\" class=\"dataframe\">\n",
              "  <thead>\n",
              "    <tr style=\"text-align: right;\">\n",
              "      <th></th>\n",
              "      <th>loss</th>\n",
              "      <th>acc</th>\n",
              "      <th>val_loss</th>\n",
              "      <th>val_acc</th>\n",
              "      <th>lr</th>\n",
              "    </tr>\n",
              "  </thead>\n",
              "  <tbody>\n",
              "    <tr>\n",
              "      <th>0</th>\n",
              "      <td>1.534549</td>\n",
              "      <td>0.443730</td>\n",
              "      <td>2.478612</td>\n",
              "      <td>0.271835</td>\n",
              "      <td>0.001</td>\n",
              "    </tr>\n",
              "    <tr>\n",
              "      <th>1</th>\n",
              "      <td>1.100303</td>\n",
              "      <td>0.602984</td>\n",
              "      <td>0.920606</td>\n",
              "      <td>0.668570</td>\n",
              "      <td>0.001</td>\n",
              "    </tr>\n",
              "    <tr>\n",
              "      <th>2</th>\n",
              "      <td>0.922077</td>\n",
              "      <td>0.669594</td>\n",
              "      <td>0.951469</td>\n",
              "      <td>0.671274</td>\n",
              "      <td>0.001</td>\n",
              "    </tr>\n",
              "    <tr>\n",
              "      <th>3</th>\n",
              "      <td>0.811257</td>\n",
              "      <td>0.711100</td>\n",
              "      <td>0.790946</td>\n",
              "      <td>0.725361</td>\n",
              "      <td>0.001</td>\n",
              "    </tr>\n",
              "    <tr>\n",
              "      <th>4</th>\n",
              "      <td>0.738531</td>\n",
              "      <td>0.736967</td>\n",
              "      <td>0.705824</td>\n",
              "      <td>0.753506</td>\n",
              "      <td>0.001</td>\n",
              "    </tr>\n",
              "  </tbody>\n",
              "</table>\n",
              "</div>"
            ],
            "text/plain": [
              "       loss       acc  val_loss   val_acc     lr\n",
              "0  1.534549  0.443730  2.478612  0.271835  0.001\n",
              "1  1.100303  0.602984  0.920606  0.668570  0.001\n",
              "2  0.922077  0.669594  0.951469  0.671274  0.001\n",
              "3  0.811257  0.711100  0.790946  0.725361  0.001\n",
              "4  0.738531  0.736967  0.705824  0.753506  0.001"
            ]
          },
          "metadata": {
            "tags": []
          },
          "execution_count": 13
        }
      ]
    },
    {
      "cell_type": "code",
      "metadata": {
        "colab": {
          "base_uri": "https://localhost:8080/",
          "height": 279
        },
        "id": "qdL4AqhgbXkg",
        "outputId": "9df8ed40-bc55-445a-d0f0-83e1b5a1a748"
      },
      "source": [
        "History[['loss', 'val_loss']].plot()\n",
        "plt.ylabel('loss')\n",
        "plt.xlabel('No. Of epochs')\n",
        "plt.show()"
      ],
      "execution_count": 14,
      "outputs": [
        {
          "output_type": "display_data",
          "data": {
            "image/png": "[encoded data removed]",
            "text/plain": [
              "<Figure size 432x288 with 1 Axes>"
            ]
          },
          "metadata": {
            "tags": [],
            "needs_background": "light"
          }
        }
      ]
    },
    {
      "cell_type": "code",
      "metadata": {
        "colab": {
          "base_uri": "https://localhost:8080/",
          "height": 279
        },
        "id": "fLekQ3gjbnDy",
        "outputId": "83932a3a-47e7-4ebb-db93-8050d87bb414"
      },
      "source": [
        "History[['acc', 'val_acc']].plot()\n",
        "plt.ylabel('Accuracy')\n",
        "plt.xlabel('No. Of epochs')\n",
        "plt.show()"
      ],
      "execution_count": 16,
      "outputs": [
        {
          "output_type": "display_data",
          "data": {
            "image/png": "[encoded data removed]",
            "text/plain": [
              "<Figure size 432x288 with 1 Axes>"
            ]
          },
          "metadata": {
            "tags": [],
            "needs_background": "light"
          }
        }
      ]
    },
    {
      "cell_type": "code",
      "metadata": {
        "colab": {
          "base_uri": "https://localhost:8080/"
        },
        "id": "vPQnvLjjbw-B",
        "outputId": "9e7f18d8-1fb8-42c7-c4fe-693ff8300e14"
      },
      "source": [
        "y_pred = model.predict(x_test)\n",
        "y_pred  = [np.argmax(j) for j in y_pred]\n",
        "y_pred[:5], y_test[:5]"
      ],
      "execution_count": 17,
      "outputs": [
        {
          "output_type": "execute_result",
          "data": {
            "text/plain": [
              "([3, 8, 8, 0, 6], array([3, 8, 8, 0, 6], dtype=uint8))"
            ]
          },
          "metadata": {
            "tags": []
          },
          "execution_count": 17
        }
      ]
    },
    {
      "cell_type": "code",
      "metadata": {
        "colab": {
          "base_uri": "https://localhost:8080/",
          "height": 795
        },
        "id": "otb7Oh1jb8io",
        "outputId": "35d4fbc8-045c-4f44-c634-f47e9e354aea"
      },
      "source": [
        "from sklearn.metrics import classification_report, accuracy_score, confusion_matrix\n",
        "import seaborn as sns\n",
        "\n",
        "print(classification_report(y_test, y_pred))\n",
        "print('Accuracy is : ', accuracy_score(y_test, y_pred))\n",
        "\n",
        "cm = confusion_matrix(y_test, y_pred)\n",
        "plt.figure(figsize=(10, 8))\n",
        "sns.heatmap(cm, annot=True, lw=3, fmt='d')\n",
        "plt.show()"
      ],
      "execution_count": 19,
      "outputs": [
        {
          "output_type": "stream",
          "text": [
            "              precision    recall  f1-score   support\n",
            "\n",
            "           0       0.85      0.87      0.86      1000\n",
            "           1       0.92      0.92      0.92      1000\n",
            "           2       0.82      0.74      0.78      1000\n",
            "           3       0.71      0.71      0.71      1000\n",
            "           4       0.82      0.83      0.83      1000\n",
            "           5       0.79      0.77      0.78      1000\n",
            "           6       0.86      0.89      0.88      1000\n",
            "           7       0.88      0.89      0.88      1000\n",
            "           8       0.90      0.93      0.91      1000\n",
            "           9       0.89      0.92      0.90      1000\n",
            "\n",
            "    accuracy                           0.85     10000\n",
            "   macro avg       0.84      0.85      0.84     10000\n",
            "weighted avg       0.84      0.85      0.84     10000\n",
            "\n",
            "Accuracy is :  0.8456\n"
          ],
          "name": "stdout"
        },
        {
          "output_type": "display_data",
          "data": {
            "image/png": "[encoded data removed]",
            "text/plain": [
              "<Figure size 720x576 with 2 Axes>"
            ]
          },
          "metadata": {
            "tags": [],
            "needs_background": "light"
          }
        }
      ]
    },
    {
      "cell_type": "code",
      "metadata": {
        "id": "vADbivjFcEvd"
      },
      "source": [
        ""
      ],
      "execution_count": null,
      "outputs": []
    }
  ]
}