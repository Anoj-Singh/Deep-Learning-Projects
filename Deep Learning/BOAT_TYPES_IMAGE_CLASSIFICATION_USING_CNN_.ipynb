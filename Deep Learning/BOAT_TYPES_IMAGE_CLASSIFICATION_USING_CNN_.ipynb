{
  "nbformat": 4,
  "nbformat_minor": 0,
  "metadata": {
    "colab": {
      "name": "BOAT TYPES - IMAGE CLASSIFICATION USING - CNN .ipynb",
      "provenance": [],
      "collapsed_sections": []
    },
    "kernelspec": {
      "name": "python3",
      "display_name": "Python 3"
    },
    "language_info": {
      "name": "python"
    },
    "accelerator": "GPU"
  },
  "cells": [
    {
      "cell_type": "code",
      "metadata": {
        "id": "y0muW0-C3d7p"
      },
      "source": [
        "import numpy as np\n",
        "import matplotlib.pyplot as plt\n",
        "import tensorflow as tf\n",
        "from tensorflow.keras.preprocessing.image import ImageDataGenerator\n",
        "from tensorflow.keras.preprocessing import image"
      ],
      "execution_count": null,
      "outputs": []
    },
    {
      "cell_type": "code",
      "metadata": {
        "colab": {
          "base_uri": "https://localhost:8080/"
        },
        "id": "r85vrKZ130Yp",
        "outputId": "bdc5b355-6855-4998-9d8a-36c14df193c8"
      },
      "source": [
        "train_set = ImageDataGenerator(rescale=1/255,\n",
        "                               horizontal_flip=True,\n",
        "                               vertical_flip=True, \n",
        "                               zoom_range=0.2,\n",
        "                               shear_range=0.2,\n",
        "                               )\n",
        "\n",
        "train_data = train_set.flow_from_directory('/content/drive/MyDrive/TRAIN',\n",
        "                                           target_size=(128,128),\n",
        "                                           batch_size=32,\n",
        "                                           class_mode='categorical',\n",
        "                                           )"
      ],
      "execution_count": null,
      "outputs": [
        {
          "output_type": "stream",
          "text": [
            "Found 1162 images belonging to 9 classes.\n"
          ],
          "name": "stdout"
        }
      ]
    },
    {
      "cell_type": "code",
      "metadata": {
        "colab": {
          "base_uri": "https://localhost:8080/"
        },
        "id": "_nk56H-0-0zt",
        "outputId": "60d792bc-d20b-46fc-d057-498c71db2dbd"
      },
      "source": [
        "train_data.class_indices"
      ],
      "execution_count": null,
      "outputs": [
        {
          "output_type": "execute_result",
          "data": {
            "text/plain": [
              "{'buoy': 0,\n",
              " 'cruise_ship': 1,\n",
              " 'ferry_boat': 2,\n",
              " 'freight_boat': 3,\n",
              " 'gondola': 4,\n",
              " 'inflatable_boat': 5,\n",
              " 'kayak': 6,\n",
              " 'paper_boat': 7,\n",
              " 'sailboat': 8}"
            ]
          },
          "metadata": {
            "tags": []
          },
          "execution_count": 3
        }
      ]
    },
    {
      "cell_type": "code",
      "metadata": {
        "id": "1n1n-FuE_dY8"
      },
      "source": [
        "model = tf.keras.models.Sequential()\n",
        "\n",
        "model.add(tf.keras.layers.Conv2D(filters=32, kernel_size=3, activation='relu', input_shape=(128,128,3)))\n",
        "model.add(tf.keras.layers.MaxPool2D(pool_size=2, strides=2))\n",
        "\n",
        "model.add(tf.keras.layers.Dropout(0.15))\n",
        "\n",
        "model.add(tf.keras.layers.Conv2D(filters=64, kernel_size=3, activation='relu'))\n",
        "model.add(tf.keras.layers.MaxPool2D(pool_size=2, strides=2))\n",
        "\n",
        "model.add(tf.keras.layers.Dropout(0.15))\n",
        "\n",
        "# model.add(tf.keras.layers.Conv2D(filters=64, kernel_size=3, activation='relu'))\n",
        "# model.add(tf.keras.layers.MaxPool2D(pool_size=2, strides=2))\n",
        "\n",
        "model.add(tf.keras.layers.Flatten())"
      ],
      "execution_count": null,
      "outputs": []
    },
    {
      "cell_type": "code",
      "metadata": {
        "id": "-cquCVQW_vId"
      },
      "source": [
        "model.add(tf.keras.layers.Dense(units=128, activation='relu'))\n",
        "model.add(tf.keras.layers.Dense(units=96, activation='relu'))\n",
        "# model.add(tf.keras.layers.Dense(units=32, activation='relu'))\n",
        "model.add(tf.keras.layers.Dense(units=9, activation='softmax'))"
      ],
      "execution_count": null,
      "outputs": []
    },
    {
      "cell_type": "code",
      "metadata": {
        "id": "tiMqQUhmBq8J"
      },
      "source": [
        "model.compile(optimizer='adam', loss='categorical_crossentropy', metrics=['accuracy'])"
      ],
      "execution_count": null,
      "outputs": []
    },
    {
      "cell_type": "code",
      "metadata": {
        "colab": {
          "base_uri": "https://localhost:8080/"
        },
        "id": "yRn3DkmYB2c0",
        "outputId": "2164cdeb-5401-4a0d-e1ce-691f851378e9"
      },
      "source": [
        "model.fit(train_data, epochs=45)"
      ],
      "execution_count": null,
      "outputs": [
        {
          "output_type": "stream",
          "text": [
            "Epoch 1/45\n",
            "37/37 [==============================] - 27s 520ms/step - loss: 2.9991 - accuracy: 0.2604\n",
            "Epoch 2/45\n",
            "37/37 [==============================] - 19s 522ms/step - loss: 1.7760 - accuracy: 0.3480\n",
            "Epoch 3/45\n",
            "37/37 [==============================] - 19s 525ms/step - loss: 1.7762 - accuracy: 0.3581\n",
            "Epoch 4/45\n",
            "37/37 [==============================] - 19s 522ms/step - loss: 1.7396 - accuracy: 0.3771\n",
            "Epoch 5/45\n",
            "37/37 [==============================] - 19s 525ms/step - loss: 1.6651 - accuracy: 0.4195\n",
            "Epoch 6/45\n",
            "37/37 [==============================] - 20s 530ms/step - loss: 1.6266 - accuracy: 0.4136\n",
            "Epoch 7/45\n",
            "37/37 [==============================] - 20s 535ms/step - loss: 1.5948 - accuracy: 0.4260\n",
            "Epoch 8/45\n",
            "37/37 [==============================] - 20s 530ms/step - loss: 1.5036 - accuracy: 0.4822\n",
            "Epoch 9/45\n",
            "37/37 [==============================] - 20s 538ms/step - loss: 1.4674 - accuracy: 0.4871\n",
            "Epoch 10/45\n",
            "37/37 [==============================] - 20s 540ms/step - loss: 1.4531 - accuracy: 0.5034\n",
            "Epoch 11/45\n",
            "37/37 [==============================] - 20s 534ms/step - loss: 1.4082 - accuracy: 0.5006\n",
            "Epoch 12/45\n",
            "37/37 [==============================] - 20s 526ms/step - loss: 1.3363 - accuracy: 0.5377\n",
            "Epoch 13/45\n",
            "37/37 [==============================] - 20s 530ms/step - loss: 1.2541 - accuracy: 0.5696\n",
            "Epoch 14/45\n",
            "37/37 [==============================] - 20s 528ms/step - loss: 1.2085 - accuracy: 0.6049\n",
            "Epoch 15/45\n",
            "37/37 [==============================] - 20s 529ms/step - loss: 1.1707 - accuracy: 0.6021\n",
            "Epoch 16/45\n",
            "37/37 [==============================] - 20s 527ms/step - loss: 1.1624 - accuracy: 0.5874\n",
            "Epoch 17/45\n",
            "37/37 [==============================] - 19s 524ms/step - loss: 1.0724 - accuracy: 0.6457\n",
            "Epoch 18/45\n",
            "37/37 [==============================] - 20s 528ms/step - loss: 0.9998 - accuracy: 0.6543\n",
            "Epoch 19/45\n",
            "37/37 [==============================] - 20s 529ms/step - loss: 1.0027 - accuracy: 0.6522\n",
            "Epoch 20/45\n",
            "37/37 [==============================] - 19s 526ms/step - loss: 0.9968 - accuracy: 0.6868\n",
            "Epoch 21/45\n",
            "37/37 [==============================] - 20s 528ms/step - loss: 0.8722 - accuracy: 0.7006\n",
            "Epoch 22/45\n",
            "37/37 [==============================] - 19s 525ms/step - loss: 0.8741 - accuracy: 0.7021\n",
            "Epoch 23/45\n",
            "37/37 [==============================] - 20s 529ms/step - loss: 0.8518 - accuracy: 0.7174\n",
            "Epoch 24/45\n",
            "37/37 [==============================] - 20s 528ms/step - loss: 0.8397 - accuracy: 0.7050\n",
            "Epoch 25/45\n",
            "37/37 [==============================] - 20s 535ms/step - loss: 0.8593 - accuracy: 0.7221\n",
            "Epoch 26/45\n",
            "37/37 [==============================] - 20s 534ms/step - loss: 0.9114 - accuracy: 0.6824\n",
            "Epoch 27/45\n",
            "37/37 [==============================] - 20s 534ms/step - loss: 0.7535 - accuracy: 0.7303\n",
            "Epoch 28/45\n",
            "37/37 [==============================] - 20s 531ms/step - loss: 0.7605 - accuracy: 0.7361\n",
            "Epoch 29/45\n",
            "37/37 [==============================] - 20s 531ms/step - loss: 0.7589 - accuracy: 0.7358\n",
            "Epoch 30/45\n",
            "37/37 [==============================] - 20s 533ms/step - loss: 0.6425 - accuracy: 0.7717\n",
            "Epoch 31/45\n",
            "37/37 [==============================] - 20s 530ms/step - loss: 0.6915 - accuracy: 0.7453\n",
            "Epoch 32/45\n",
            "37/37 [==============================] - 20s 526ms/step - loss: 0.6609 - accuracy: 0.7772\n",
            "Epoch 33/45\n",
            "37/37 [==============================] - 20s 531ms/step - loss: 0.7049 - accuracy: 0.7544\n",
            "Epoch 34/45\n",
            "37/37 [==============================] - 20s 528ms/step - loss: 0.5736 - accuracy: 0.7770\n",
            "Epoch 35/45\n",
            "37/37 [==============================] - 20s 534ms/step - loss: 0.5479 - accuracy: 0.8103\n",
            "Epoch 36/45\n",
            "37/37 [==============================] - 20s 529ms/step - loss: 0.5584 - accuracy: 0.7975\n",
            "Epoch 37/45\n",
            "37/37 [==============================] - 20s 527ms/step - loss: 0.5005 - accuracy: 0.8299\n",
            "Epoch 38/45\n",
            "37/37 [==============================] - 20s 533ms/step - loss: 0.4929 - accuracy: 0.8166\n",
            "Epoch 39/45\n",
            "37/37 [==============================] - 20s 533ms/step - loss: 0.4638 - accuracy: 0.8471\n",
            "Epoch 40/45\n",
            "37/37 [==============================] - 20s 540ms/step - loss: 0.4719 - accuracy: 0.8366\n",
            "Epoch 41/45\n",
            "37/37 [==============================] - 20s 533ms/step - loss: 0.4827 - accuracy: 0.8366\n",
            "Epoch 42/45\n",
            "37/37 [==============================] - 20s 532ms/step - loss: 0.4241 - accuracy: 0.8595\n",
            "Epoch 43/45\n",
            "37/37 [==============================] - 20s 536ms/step - loss: 0.4508 - accuracy: 0.8460\n",
            "Epoch 44/45\n",
            "37/37 [==============================] - 20s 539ms/step - loss: 0.4216 - accuracy: 0.8549\n",
            "Epoch 45/45\n",
            "37/37 [==============================] - 20s 537ms/step - loss: 0.3993 - accuracy: 0.8576\n"
          ],
          "name": "stdout"
        },
        {
          "output_type": "execute_result",
          "data": {
            "text/plain": [
              "<tensorflow.python.keras.callbacks.History at 0x7feed214d8d0>"
            ]
          },
          "metadata": {
            "tags": []
          },
          "execution_count": 7
        }
      ]
    },
    {
      "cell_type": "code",
      "metadata": {
        "id": "W1KnRS39Krn7"
      },
      "source": [
        ""
      ],
      "execution_count": null,
      "outputs": []
    },
    {
      "cell_type": "code",
      "metadata": {
        "id": "FUKJh3ubN1GJ"
      },
      "source": [
        ""
      ],
      "execution_count": null,
      "outputs": []
    },
    {
      "cell_type": "code",
      "metadata": {
        "id": "msPFZp3XP4Hx"
      },
      "source": [
        ""
      ],
      "execution_count": null,
      "outputs": []
    },
    {
      "cell_type": "code",
      "metadata": {
        "id": "03MNaGYOXfcc"
      },
      "source": [
        ""
      ],
      "execution_count": null,
      "outputs": []
    },
    {
      "cell_type": "code",
      "metadata": {
        "id": "6JugLT1YSOHG"
      },
      "source": [
        ""
      ],
      "execution_count": null,
      "outputs": []
    }
  ]
}